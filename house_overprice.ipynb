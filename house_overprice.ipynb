{
 "cells": [
  {
   "cell_type": "markdown",
   "metadata": {},
   "source": [
    "Date: 25/10/2019\n",
    "\n",
    "Version: 2.0\n",
    "\n",
    "Environment: Python 3.6.5 and Jupyter notebook\n",
    "\n",
    "Libraries used: \n",
    "* pandas (for dataframe, included in Anaconda Python 3.6.5) \n",
    "* re (for regular expression, included in Anaconda Python 3.6.5) \n",
    "* shapely (NetworkX is a Python package for the networks function)\n",
    "* sklearn.linear_model (Ordinary least squares Linear Regression)\n",
    "* contextlib (for common tasks involving the with statement)\n",
    "* tqdm (Progress bar)\n",
    "* numpy (for scientific computing with Python)\n",
    "* datetime\n",
    "* seaborn (for visualization)\n",
    "* shapefile\n",
    "* Polygon (finding Boundary)\n",
    "* patches\n",
    "* PatchCollection"
   ]
  },
  {
   "cell_type": "code",
   "execution_count": 1,
   "metadata": {},
   "outputs": [
    {
     "name": "stderr",
     "output_type": "stream",
     "text": [
      "C:\\ProgramData\\Anaconda3\\lib\\site-packages\\tqdm\\autonotebook\\__init__.py:14: TqdmExperimentalWarning: Using `tqdm.autonotebook.tqdm` in notebook mode. Use `tqdm.tqdm` instead to force console mode (e.g. in jupyter console)\n",
      "  \" (e.g. in jupyter console)\", TqdmExperimentalWarning)\n"
     ]
    }
   ],
   "source": [
    "import os\n",
    "os.environ[\"PROJ_LIB\"] = \"C:\\\\ProgramData\\\\Anaconda3\\\\pkgs\\\\proj4-5.2.0-h6538335_1006\\\\Library\\\\share\"\n",
    "from mpl_toolkits.basemap import Basemap #mapping\n",
    "\n",
    "from shapely.geometry import Point #to find suburb\n",
    "from shapely.geometry.polygon import Polygon #to find suburb \n",
    "\n",
    "import pandas as pd #pandas tables\n",
    "import numpy as np #numpy for linear algrebra solution\n",
    "import matplotlib.pyplot as plt #EDA\n",
    "%matplotlib inline\n",
    "pd.set_option('display.max_rows', 500) #display of pandas\n",
    "pd.set_option('display.max_columns', 500)  #display of pandas\n",
    "pd.set_option('display.width', 1000)  #display of pandas\n",
    "\n",
    "import math #math operations\n",
    "from datetime import datetime #datetime manipulation\n",
    "\n",
    "import tqdm #progress bar\n",
    "from tqdm import tqdm_notebook as tqdm #progress bar\n",
    "from tqdm.autonotebook import tqdm #progress bar\n",
    " #progress bar\n",
    "\n",
    "from sklearn import linear_model  #linear regression \n",
    "import statsmodels.api as sm #linear regression \n",
    "\n",
    "import re #regex\n",
    "from contextlib import suppress #suppress error\n",
    "\n",
    "tqdm.pandas()\n",
    "import datetime as dt #to convert datetime value later on\n",
    "\n",
    "import matplotlib \n",
    "%matplotlib inline\n",
    "import shapefile\n",
    "import matplotlib.pyplot as plt\n",
    "import matplotlib.patches as patches\n",
    "from matplotlib.patches import Polygon\n",
    "\n",
    "from shapely.geometry import Point #mapping lat long on map\n",
    "from shapely.geometry.polygon import Polygon #create suburb boundary\n",
    "\n",
    "from urllib.request import urlopen as uReq # scraping\n",
    "from bs4 import BeautifulSoup as soup # Beautiful soup\n",
    "\n",
    "# for data reshaping\n",
    "import seaborn as sns #visualization\n",
    "import scipy.stats as stats\n",
    "import pylab \n",
    "from scipy.stats.stats import pearsonr #correlation\n",
    "\n",
    "# testing the performance of linear model\n",
    "from sklearn.linear_model import LinearRegression\n",
    "from sklearn.model_selection import train_test_split\n",
    "from sklearn.metrics import mean_squared_error\n",
    "from sklearn.metrics import mean_absolute_error\n",
    "\n",
    "from sklearn.preprocessing import StandardScaler #standardization\n",
    "from sklearn.metrics import r2_score"
   ]
  },
  {
   "cell_type": "code",
   "execution_count": 2,
   "metadata": {},
   "outputs": [],
   "source": [
    "#save the columns for the output.\n",
    "ori_col = [\"ID\",\n",
    "         \"Address\",\n",
    "         \"Suburb\",\n",
    "         \"Price\",\n",
    "         \"Type\",\n",
    "         \"Date\",\n",
    "         \"Rooms\",\n",
    "         \"Bathroom\",\n",
    "         \"Car\",\n",
    "         \"LandSize\",\n",
    "         \"Age\",\n",
    "         \"Latitude\",\n",
    "         \"Longitude\",\n",
    "         \"train_station_id\",\n",
    "         \"distance_to_train_station\",\n",
    "         \"travel_min_to_CBD\",\n",
    "         \"over_priced?\",\n",
    "         \"crime_A_average\",\n",
    "         \"crime_B_average\",\n",
    "         \"crime_C_average\",\n",
    "          \"closest_primary_school\",\n",
    "          \"distance_to_closest_primary\",\n",
    "          \"primary_school_ranking\",\n",
    "          \"closest_secondary_school\",\n",
    "          \"distance_to_closest_secondary\",\n",
    "          \"secondary_school_ranking\"]\n",
    "residents = pd.read_csv('property.csv')\n",
    "#change the name of the column according to the specs\n",
    "residents.rename(columns = {\"Landsize\":\"LandSize\",\n",
    "                            \"Lattitude\":\"Latitude\",\n",
    "                            \"Longtitude\":\"Longitude\"},\n",
    "                 inplace = True)\n",
    "\n",
    "#Initiate the columns for later purposes.\n",
    "residents['Suburb'] = 'not available'\n",
    "residents['train_station_id'] = -1\n",
    "residents['distance_to_train_station'] = -1.\n",
    "residents['travel_min_to_CBD'] = -1.\n",
    "residents['over_priced?'] = -1\n",
    "residents['crime_A_average'] = -1.\n",
    "residents['crime_B_average'] = -1.\n",
    "residents['crime_C_average'] = -1.\n",
    "residents['closest_primary_school'] = 'not available'\n",
    "residents['distance_to_closest_primary'] = -1.\n",
    "residents['primary_school_ranking'] = -1\n",
    "residents['closest_secondary_school'] = 'not available'\n",
    "residents['distance_to_closest_secondary'] = -1.\n",
    "residents['secondary_school_ranking'] = -1"
   ]
  },
  {
   "cell_type": "markdown",
   "metadata": {},
   "source": [
    "# I. Data Integration"
   ]
  },
  {
   "cell_type": "markdown",
   "metadata": {},
   "source": [
    "## I.1 Suburbs"
   ]
  },
  {
   "cell_type": "markdown",
   "metadata": {},
   "source": [
    "We can get the suburbs for each resident as follow:\n",
    "   * 1.1. Remove the duplicates\n",
    "   * 1.2. Loop through each suburb in recs, find if the surburb is within the boundary Polygon(points)\n",
    "   * 1.3. From the record of shapefile, we can get the name of the suburb from the seventh value of each record. Therefore, we will define a function that returns the suburb. "
   ]
  },
  {
   "cell_type": "markdown",
   "metadata": {},
   "source": [
    "We will read shapefile. Records and shapes in shapefile contain data and the boundary of suburbs. "
   ]
  },
  {
   "cell_type": "code",
   "execution_count": 3,
   "metadata": {},
   "outputs": [
    {
     "name": "stdout",
     "output_type": "stream",
     "text": [
      "There are 720 row in the data\n",
      "There are 684 records in the data\n"
     ]
    },
    {
     "data": {
      "text/html": [
       "<div>\n",
       "<style scoped>\n",
       "    .dataframe tbody tr th:only-of-type {\n",
       "        vertical-align: middle;\n",
       "    }\n",
       "\n",
       "    .dataframe tbody tr th {\n",
       "        vertical-align: top;\n",
       "    }\n",
       "\n",
       "    .dataframe thead th {\n",
       "        text-align: right;\n",
       "    }\n",
       "</style>\n",
       "<table border=\"1\" class=\"dataframe\">\n",
       "  <thead>\n",
       "    <tr style=\"text-align: right;\">\n",
       "      <th></th>\n",
       "      <th>ID</th>\n",
       "      <th>Address</th>\n",
       "      <th>Rooms</th>\n",
       "      <th>Type</th>\n",
       "      <th>Price</th>\n",
       "      <th>Date</th>\n",
       "      <th>Bathroom</th>\n",
       "      <th>Car</th>\n",
       "      <th>LandSize</th>\n",
       "      <th>Age</th>\n",
       "      <th>Latitude</th>\n",
       "      <th>Longitude</th>\n",
       "      <th>Suburb</th>\n",
       "      <th>train_station_id</th>\n",
       "      <th>distance_to_train_station</th>\n",
       "      <th>travel_min_to_CBD</th>\n",
       "      <th>over_priced?</th>\n",
       "      <th>crime_A_average</th>\n",
       "      <th>crime_B_average</th>\n",
       "      <th>crime_C_average</th>\n",
       "      <th>closest_primary_school</th>\n",
       "      <th>distance_to_closest_primary</th>\n",
       "      <th>primary_school_ranking</th>\n",
       "      <th>closest_secondary_school</th>\n",
       "      <th>distance_to_closest_secondary</th>\n",
       "      <th>secondary_school_ranking</th>\n",
       "    </tr>\n",
       "  </thead>\n",
       "  <tbody>\n",
       "    <tr>\n",
       "      <th>22</th>\n",
       "      <td>ID119650571</td>\n",
       "      <td>7B Hargreaves St</td>\n",
       "      <td>3</td>\n",
       "      <td>h</td>\n",
       "      <td>2725000.0</td>\n",
       "      <td>13/05/2017</td>\n",
       "      <td>2.0</td>\n",
       "      <td>1.0</td>\n",
       "      <td>0.0</td>\n",
       "      <td>119.0</td>\n",
       "      <td>-37.8007</td>\n",
       "      <td>144.9833</td>\n",
       "      <td>not available</td>\n",
       "      <td>-1</td>\n",
       "      <td>-1.0</td>\n",
       "      <td>-1.0</td>\n",
       "      <td>-1</td>\n",
       "      <td>-1.0</td>\n",
       "      <td>-1.0</td>\n",
       "      <td>-1.0</td>\n",
       "      <td>not available</td>\n",
       "      <td>-1.0</td>\n",
       "      <td>-1</td>\n",
       "      <td>not available</td>\n",
       "      <td>-1.0</td>\n",
       "      <td>-1</td>\n",
       "    </tr>\n",
       "    <tr>\n",
       "      <th>132</th>\n",
       "      <td>ID119650571</td>\n",
       "      <td>7B Hargreaves St</td>\n",
       "      <td>3</td>\n",
       "      <td>h</td>\n",
       "      <td>2725000.0</td>\n",
       "      <td>13/05/2017</td>\n",
       "      <td>2.0</td>\n",
       "      <td>1.0</td>\n",
       "      <td>0.0</td>\n",
       "      <td>119.0</td>\n",
       "      <td>-37.8007</td>\n",
       "      <td>144.9833</td>\n",
       "      <td>not available</td>\n",
       "      <td>-1</td>\n",
       "      <td>-1.0</td>\n",
       "      <td>-1.0</td>\n",
       "      <td>-1</td>\n",
       "      <td>-1.0</td>\n",
       "      <td>-1.0</td>\n",
       "      <td>-1.0</td>\n",
       "      <td>not available</td>\n",
       "      <td>-1.0</td>\n",
       "      <td>-1</td>\n",
       "      <td>not available</td>\n",
       "      <td>-1.0</td>\n",
       "      <td>-1</td>\n",
       "    </tr>\n",
       "  </tbody>\n",
       "</table>\n",
       "</div>"
      ],
      "text/plain": [
       "              ID           Address  Rooms Type      Price        Date  Bathroom  Car  LandSize    Age  Latitude  Longitude         Suburb  train_station_id  distance_to_train_station  travel_min_to_CBD  over_priced?  crime_A_average  crime_B_average  crime_C_average closest_primary_school  distance_to_closest_primary  primary_school_ranking closest_secondary_school  distance_to_closest_secondary  secondary_school_ranking\n",
       "22   ID119650571  7B Hargreaves St      3    h  2725000.0  13/05/2017       2.0  1.0       0.0  119.0  -37.8007   144.9833  not available                -1                       -1.0               -1.0            -1             -1.0             -1.0             -1.0          not available                         -1.0                      -1            not available                           -1.0                        -1\n",
       "132  ID119650571  7B Hargreaves St      3    h  2725000.0  13/05/2017       2.0  1.0       0.0  119.0  -37.8007   144.9833  not available                -1                       -1.0               -1.0            -1             -1.0             -1.0             -1.0          not available                         -1.0                      -1            not available                           -1.0                        -1"
      ]
     },
     "execution_count": 3,
     "metadata": {},
     "output_type": "execute_result"
    }
   ],
   "source": [
    "sf = shapefile.Reader(\"VIC_LOCALITY_POLYGON_shp\") # all 3 files are used\n",
    "recs = sf.records()\n",
    "shapes = sf.shapes()\n",
    "\n",
    "print('There are {} row in the data'.format(len(residents)))\n",
    "print('There are {} records in the data'.format(len(residents['ID'].unique())))\n",
    "\n",
    "residents[residents['ID'] == 'ID119650571']"
   ]
  },
  {
   "cell_type": "code",
   "execution_count": 4,
   "metadata": {},
   "outputs": [],
   "source": [
    "#remove duplicated values\n",
    "residents = residents.drop_duplicates().reset_index(drop=True)"
   ]
  },
  {
   "cell_type": "markdown",
   "metadata": {},
   "source": [
    "From shape data we have points, that show the boundary of the suburbs. In order to connect points, we will need Polygon."
   ]
  },
  {
   "cell_type": "code",
   "execution_count": 5,
   "metadata": {},
   "outputs": [
    {
     "data": {
      "application/vnd.jupyter.widget-view+json": {
       "model_id": "ad67dd6deb89419d8af16396ea7b189b",
       "version_major": 2,
       "version_minor": 0
      },
      "text/plain": [
       "HBox(children=(IntProgress(value=0, max=684), HTML(value='')))"
      ]
     },
     "metadata": {},
     "output_type": "display_data"
    },
    {
     "name": "stdout",
     "output_type": "stream",
     "text": [
      "\n"
     ]
    }
   ],
   "source": [
    "def get_suburb(long, lat):\n",
    "    \n",
    "        \"\"\"\n",
    "        Return the name of the suburb if the geolocation is to be found\n",
    "        within the boundary of the suburbs (calculated using Polygon method)\n",
    "        Input is longitude, lattitude.\n",
    "        Output is name.\n",
    "        \"\"\"\n",
    "        \n",
    "        property_geoloc = Point(long, lat)\n",
    "        # Check if location is within suburb and edit data frame accordingly. \n",
    "        \n",
    "        for index_shape, shape in enumerate(shapes):\n",
    "            # get suburb boundary\n",
    "            suburb_boundary = Polygon(shape.points)\n",
    "                   \n",
    "            if property_geoloc.within(suburb_boundary):\n",
    "                #name of the suburb\n",
    "                return recs[index_shape][6] \n",
    "                \n",
    "                #Terminate the loop\n",
    "                break\n",
    "\n",
    "#get suburb name\n",
    "residents['Suburb'] = residents[['Longitude','Latitude']].progress_apply(lambda x: get_suburb(*x), axis = 1)"
   ]
  },
  {
   "cell_type": "markdown",
   "metadata": {},
   "source": [
    "## I.2. Train stations with trips leading to Southern Cross every weekday (from 7:00-9:30)"
   ]
  },
  {
   "cell_type": "markdown",
   "metadata": {},
   "source": [
    "We will read data from gtfs."
   ]
  },
  {
   "cell_type": "code",
   "execution_count": 6,
   "metadata": {},
   "outputs": [],
   "source": [
    "class ptv():  \n",
    "    def __init__(self, link):\n",
    "        # read all at once\n",
    "        self.agency = pd.read_csv(link+\"/agency.txt\")\n",
    "        # calendar\n",
    "        self.calendar = pd.read_csv(link+\"/calendar.txt\")\n",
    "        # calendar_dates\n",
    "        self.calendar_dates = pd.read_csv(link+\"/calendar_dates.txt\")\n",
    "        # routes\n",
    "        self.routes = pd.read_csv(link+\"/routes.txt\")\n",
    "        # shapes\n",
    "        self.shapes = pd.read_csv(link+\"/shapes.txt\")\n",
    "        # stops\n",
    "        self.stops = pd.read_csv(link+\"/stops.txt\")\n",
    "        # stop_times\n",
    "        self.stop_times = pd.read_csv(link+\"/stop_times.txt\")\n",
    "        # trips\n",
    "        self.trips = pd.read_csv(link+\"/trips.txt\")"
   ]
  },
  {
   "cell_type": "markdown",
   "metadata": {},
   "source": [
    "According to the GTFS Release http://data.ptv.vic.gov.au/downloads/PTVGTFSReleaseNotes.pdf:\n",
    "\n",
    "The PTV GTFS data has been exported by operational branches listed in the folder numbers below:  \n",
    " \n",
    "* 1 - Regional Train\n",
    "\n",
    "* 2 - Metropolitan Train \n",
    "\n",
    "* 3 - Metropolitan Tram \n",
    "\n",
    "* 4 - Metropolitan Bus \n",
    "\n",
    "* 5 - Regional Coach \n",
    "\n",
    "* 6 - Regional Bus \n",
    "\n",
    "* 7 - TeleBus \n",
    "\n",
    "* 8 – Night Bus \n",
    "\n",
    "* 10 - Interstate \n",
    "\n",
    "* 11 - SkyBus\n",
    "\n",
    "We only need the __Train__ services information, which is stored in gtfs 1, and 2. "
   ]
  },
  {
   "cell_type": "code",
   "execution_count": 7,
   "metadata": {},
   "outputs": [],
   "source": [
    "# Regional Train\n",
    "data_r = ptv(\"gtfs/1/google_transit\")\n",
    "# Metropolitan Train\n",
    "data_m = ptv(\"gtfs/2/google_transit\")\n",
    "# data_list contain data from Regional Train and Metro\n",
    "data_list = [data_r,data_m]"
   ]
  },
  {
   "cell_type": "code",
   "execution_count": 8,
   "metadata": {},
   "outputs": [
    {
     "data": {
      "text/plain": [
       "'26:18:00'"
      ]
     },
     "execution_count": 8,
     "metadata": {},
     "output_type": "execute_result"
    }
   ],
   "source": [
    "data_r.stop_times['arrival_time'].unique().max()"
   ]
  },
  {
   "cell_type": "markdown",
   "metadata": {},
   "source": [
    "From the max of time above, we can see that the hour time can be larger than 23. The reason is because the arrival time is the continuation from the previous day, so we will need to convert the time back to the normal hour [00:00:00 - 23:59:59]"
   ]
  },
  {
   "cell_type": "code",
   "execution_count": 9,
   "metadata": {},
   "outputs": [
    {
     "data": {
      "application/vnd.jupyter.widget-view+json": {
       "model_id": "850855850087418aa81dc2f1dd5927fe",
       "version_major": 2,
       "version_minor": 0
      },
      "text/plain": [
       "HBox(children=(IntProgress(value=0, max=2), HTML(value='')))"
      ]
     },
     "metadata": {},
     "output_type": "display_data"
    },
    {
     "name": "stdout",
     "output_type": "stream",
     "text": [
      "\n"
     ]
    }
   ],
   "source": [
    "def fix_hour(string):\n",
    "    # fix the column 24:00:00, begininning of the day\n",
    "    time = list(map(int, string.split(\":\")))\n",
    "    if time[0] > 23:\n",
    "        # if time is 24 then it should change to zero\n",
    "        time[0] = time[0] - 24\n",
    "    return dt.time(*time)\n",
    "\n",
    "#convert arrival time and departure time to time value\n",
    "for dat in tqdm(data_list):\n",
    "    dat.stop_times[\"arrival_time\"] = dat.stop_times[\"arrival_time\"].apply(fix_hour)\n",
    "    dat.stop_times[\"departure_time\"] = dat.stop_times[\"departure_time\"].apply(fix_hour)"
   ]
  },
  {
   "cell_type": "markdown",
   "metadata": {},
   "source": [
    "To find the closest train station (__stop_id__). We will need to do the following for both metro and regional line:\n",
    "\n",
    "1. Find the __service__ that run every weekday \n",
    "2. From all the __service id__ that run every weekday, we find all the __trip_id__ lead to Southern Cross Station (by looking at all __stop_id__ that the trip travels through) that:\n",
    "\n",
    "    * Depart Between 7:00am and 9:30am.\n",
    "    \n",
    "    * Either lead to or at the Southern Cross station (stop_id 20043 for regional, 22180 for metro)\n",
    "\n",
    "    * If the trip ends at Southern Cross sstation, calculate the duration of the trip __(arrival time - departure time)__\n",
    "    \n",
    "    * If at that very same stop, more than one trip leading to Souther Cross, the __average__ time is calucated (minutes)\n",
    "    \n",
    "    * Store the average time to Southern Cross of each stop in a dictionary (__met_SC_times__, __reg_SC_times__)\n",
    "4. For each residential property, find the __arc length__ (arc_distance function) to the closest __train station__. There will be stations that have two stop_ids, eg: Southern Cross. . PTV has two different stop IDs for the same station, one for their metro network, and one for their regional network. What our finding is that the regional network overlapping metro network. Therefore, we decided to suggest the metro stop_id to the residential properties that are close to these stations, we will use stop_id in file gtfs 2 (Metropolitan Train),"
   ]
  },
  {
   "cell_type": "code",
   "execution_count": 10,
   "metadata": {},
   "outputs": [
    {
     "data": {
      "text/html": [
       "<div>\n",
       "<style scoped>\n",
       "    .dataframe tbody tr th:only-of-type {\n",
       "        vertical-align: middle;\n",
       "    }\n",
       "\n",
       "    .dataframe tbody tr th {\n",
       "        vertical-align: top;\n",
       "    }\n",
       "\n",
       "    .dataframe thead th {\n",
       "        text-align: right;\n",
       "    }\n",
       "</style>\n",
       "<table border=\"1\" class=\"dataframe\">\n",
       "  <thead>\n",
       "    <tr style=\"text-align: right;\">\n",
       "      <th></th>\n",
       "      <th>service_id</th>\n",
       "      <th>monday</th>\n",
       "      <th>tuesday</th>\n",
       "      <th>wednesday</th>\n",
       "      <th>thursday</th>\n",
       "      <th>friday</th>\n",
       "      <th>saturday</th>\n",
       "      <th>sunday</th>\n",
       "      <th>start_date</th>\n",
       "      <th>end_date</th>\n",
       "    </tr>\n",
       "  </thead>\n",
       "  <tbody>\n",
       "    <tr>\n",
       "      <th>0</th>\n",
       "      <td>UR</td>\n",
       "      <td>0</td>\n",
       "      <td>0</td>\n",
       "      <td>0</td>\n",
       "      <td>1</td>\n",
       "      <td>0</td>\n",
       "      <td>0</td>\n",
       "      <td>0</td>\n",
       "      <td>20190509</td>\n",
       "      <td>20190509</td>\n",
       "    </tr>\n",
       "    <tr>\n",
       "      <th>1</th>\n",
       "      <td>T6</td>\n",
       "      <td>0</td>\n",
       "      <td>0</td>\n",
       "      <td>0</td>\n",
       "      <td>0</td>\n",
       "      <td>1</td>\n",
       "      <td>0</td>\n",
       "      <td>0</td>\n",
       "      <td>20190510</td>\n",
       "      <td>20190510</td>\n",
       "    </tr>\n",
       "    <tr>\n",
       "      <th>2</th>\n",
       "      <td>T2</td>\n",
       "      <td>0</td>\n",
       "      <td>0</td>\n",
       "      <td>0</td>\n",
       "      <td>0</td>\n",
       "      <td>0</td>\n",
       "      <td>1</td>\n",
       "      <td>0</td>\n",
       "      <td>20190511</td>\n",
       "      <td>20190511</td>\n",
       "    </tr>\n",
       "    <tr>\n",
       "      <th>3</th>\n",
       "      <td>UJ</td>\n",
       "      <td>0</td>\n",
       "      <td>0</td>\n",
       "      <td>0</td>\n",
       "      <td>0</td>\n",
       "      <td>0</td>\n",
       "      <td>0</td>\n",
       "      <td>1</td>\n",
       "      <td>20190512</td>\n",
       "      <td>20190512</td>\n",
       "    </tr>\n",
       "    <tr>\n",
       "      <th>4</th>\n",
       "      <td>UO</td>\n",
       "      <td>1</td>\n",
       "      <td>0</td>\n",
       "      <td>0</td>\n",
       "      <td>0</td>\n",
       "      <td>0</td>\n",
       "      <td>0</td>\n",
       "      <td>0</td>\n",
       "      <td>20190513</td>\n",
       "      <td>20190513</td>\n",
       "    </tr>\n",
       "  </tbody>\n",
       "</table>\n",
       "</div>"
      ],
      "text/plain": [
       "  service_id  monday  tuesday  wednesday  thursday  friday  saturday  sunday  start_date  end_date\n",
       "0         UR       0        0          0         1       0         0       0    20190509  20190509\n",
       "1         T6       0        0          0         0       1         0       0    20190510  20190510\n",
       "2         T2       0        0          0         0       0         1       0    20190511  20190511\n",
       "3         UJ       0        0          0         0       0         0       1    20190512  20190512\n",
       "4         UO       1        0          0         0       0         0       0    20190513  20190513"
      ]
     },
     "execution_count": 10,
     "metadata": {},
     "output_type": "execute_result"
    }
   ],
   "source": [
    "data_r.calendar.head()"
   ]
  },
  {
   "cell_type": "markdown",
   "metadata": {},
   "source": [
    "From the table calendar above, we can see that if the trip __available__ for the day, that day will have value of __1__, otherwise __0__. "
   ]
  },
  {
   "cell_type": "code",
   "execution_count": 11,
   "metadata": {},
   "outputs": [],
   "source": [
    "def get_weekday_trips(dat):\n",
    "    \"\"\"\n",
    "    Loop through the calendar, and find all the service_id that\n",
    "    operate every weekday, return the trip_ids of all the trip\n",
    "    belong to these services.\n",
    "    Input: data from gtfs\n",
    "    Output: list of weekday trips\n",
    "    \"\"\"\n",
    "    # initiate the list contains the trips running every weekday\n",
    "    to_sc_ids = []\n",
    "    for index, loc in dat.calendar.iterrows():\n",
    "            # if the trip runs five days, then the sum of these\n",
    "            # column will be equal 5, we will check the sum via\n",
    "            # weekday_carlendar variable, and check against 5\n",
    "            weekday_carlendar = sum([dat.calendar.at[index, \"monday\"],\n",
    "                                     dat.calendar.at[index, \"tuesday\"],\n",
    "                                     dat.calendar.at[index, \"wednesday\"],\n",
    "                                     dat.calendar.at[index, \"thursday\"],\n",
    "                                     dat.calendar.at[index, \"friday\"]])\n",
    "\n",
    "            if  weekday_carlendar == 5:\n",
    "                # If trip available each day, append to list to_sc_ids\n",
    "                to_sc_ids.append(dat.calendar.at[index, \"service_id\"])\n",
    "            # keeping only unique trip    \n",
    "            to_sc_ids = list(set(to_sc_ids))\n",
    "    weekday_trips = set() # initiate weekday trips\n",
    "    # after getting all service that operate every weekday, we collect the \n",
    "    # trip ids of these services and store in the variable weekday_trips\n",
    "    trips = set(dat.trips[dat.trips[\"service_id\"].isin(to_sc_ids)][\"trip_id\"])\n",
    "    weekday_trips.update(trips)\n",
    "    return weekday_trips"
   ]
  },
  {
   "cell_type": "code",
   "execution_count": 12,
   "metadata": {},
   "outputs": [],
   "source": [
    "# get metro trips that run every weekday\n",
    "metro_trips = get_weekday_trips(data_m)\n",
    "# get regional trips that run every weekday\n",
    "regional_trips = get_weekday_trips(data_r)"
   ]
  },
  {
   "cell_type": "markdown",
   "metadata": {},
   "source": [
    "From here we have the list of the __trips__ that run to Southern Cross during weekdays."
   ]
  },
  {
   "cell_type": "code",
   "execution_count": 13,
   "metadata": {},
   "outputs": [
    {
     "data": {
      "text/html": [
       "<div>\n",
       "<style scoped>\n",
       "    .dataframe tbody tr th:only-of-type {\n",
       "        vertical-align: middle;\n",
       "    }\n",
       "\n",
       "    .dataframe tbody tr th {\n",
       "        vertical-align: top;\n",
       "    }\n",
       "\n",
       "    .dataframe thead th {\n",
       "        text-align: right;\n",
       "    }\n",
       "</style>\n",
       "<table border=\"1\" class=\"dataframe\">\n",
       "  <thead>\n",
       "    <tr style=\"text-align: right;\">\n",
       "      <th></th>\n",
       "      <th>stop_id</th>\n",
       "      <th>stop_name</th>\n",
       "      <th>stop_lat</th>\n",
       "      <th>stop_lon</th>\n",
       "    </tr>\n",
       "  </thead>\n",
       "  <tbody>\n",
       "    <tr>\n",
       "      <th>7</th>\n",
       "      <td>20043</td>\n",
       "      <td>Southern Cross Railway Station (Melbourne City)</td>\n",
       "      <td>-37.818334</td>\n",
       "      <td>144.952525</td>\n",
       "    </tr>\n",
       "  </tbody>\n",
       "</table>\n",
       "</div>"
      ],
      "text/plain": [
       "   stop_id                                        stop_name   stop_lat    stop_lon\n",
       "7    20043  Southern Cross Railway Station (Melbourne City) -37.818334  144.952525"
      ]
     },
     "execution_count": 13,
     "metadata": {},
     "output_type": "execute_result"
    }
   ],
   "source": [
    "data_r.stops[data_r.stops['stop_name'] == 'Southern Cross Railway Station (Melbourne City)']"
   ]
  },
  {
   "cell_type": "code",
   "execution_count": 14,
   "metadata": {},
   "outputs": [
    {
     "data": {
      "text/html": [
       "<div>\n",
       "<style scoped>\n",
       "    .dataframe tbody tr th:only-of-type {\n",
       "        vertical-align: middle;\n",
       "    }\n",
       "\n",
       "    .dataframe tbody tr th {\n",
       "        vertical-align: top;\n",
       "    }\n",
       "\n",
       "    .dataframe thead th {\n",
       "        text-align: right;\n",
       "    }\n",
       "</style>\n",
       "<table border=\"1\" class=\"dataframe\">\n",
       "  <thead>\n",
       "    <tr style=\"text-align: right;\">\n",
       "      <th></th>\n",
       "      <th>stop_id</th>\n",
       "      <th>stop_name</th>\n",
       "      <th>stop_lat</th>\n",
       "      <th>stop_lon</th>\n",
       "    </tr>\n",
       "  </thead>\n",
       "  <tbody>\n",
       "    <tr>\n",
       "      <th>210</th>\n",
       "      <td>22180</td>\n",
       "      <td>Southern Cross Railway Station (Melbourne City)</td>\n",
       "      <td>-37.817936</td>\n",
       "      <td>144.951411</td>\n",
       "    </tr>\n",
       "  </tbody>\n",
       "</table>\n",
       "</div>"
      ],
      "text/plain": [
       "     stop_id                                        stop_name   stop_lat    stop_lon\n",
       "210    22180  Southern Cross Railway Station (Melbourne City) -37.817936  144.951411"
      ]
     },
     "execution_count": 14,
     "metadata": {},
     "output_type": "execute_result"
    }
   ],
   "source": [
    "data_m.stops[data_m.stops['stop_name'] == 'Southern Cross Railway Station (Melbourne City)']"
   ]
  },
  {
   "cell_type": "markdown",
   "metadata": {},
   "source": [
    "So Southern Cross Railway Station have two stop_ids, 22180 (Metro Train) and 20043 (Regional Train)."
   ]
  },
  {
   "cell_type": "code",
   "execution_count": 16,
   "metadata": {},
   "outputs": [
    {
     "data": {
      "application/vnd.jupyter.widget-view+json": {
       "model_id": "3acec077b742402f92d136a033a545af",
       "version_major": 2,
       "version_minor": 0
      },
      "text/plain": [
       "HBox(children=(IntProgress(value=0, max=222), HTML(value='')))"
      ]
     },
     "metadata": {},
     "output_type": "display_data"
    },
    {
     "name": "stdout",
     "output_type": "stream",
     "text": [
      "\n"
     ]
    },
    {
     "data": {
      "application/vnd.jupyter.widget-view+json": {
       "model_id": "98bf116ba3b64b0fbdbe5e0ca902b5a4",
       "version_major": 2,
       "version_minor": 0
      },
      "text/plain": [
       "HBox(children=(IntProgress(value=0, max=109), HTML(value='')))"
      ]
     },
     "metadata": {},
     "output_type": "display_data"
    },
    {
     "name": "stdout",
     "output_type": "stream",
     "text": [
      "\n"
     ]
    }
   ],
   "source": [
    "met_SC_times = {22180:0} # Time from Souther Cross to Southern Cross is zero\n",
    "reg_SC_times = {20043:0} # Time from Souther Cross to Southern Cross is zero\n",
    "def get_sc_time(data,To_SC_times,weekday_trips):\n",
    "    \"\"\"\n",
    "    Input: data for metro or regional, times of metro\n",
    "    \"\"\"\n",
    "    # loop through each row in data, and look at the stop_id\n",
    "    for stop in tqdm(list(data.stops[\"stop_id\"])):\n",
    "\n",
    "        # Find trips for that stop and trips to Southern Cross \n",
    "        # Station, the trip must have the destination to Southern Cross,\n",
    "        # trip available each weekday, and start from 7:00 to 9:30\n",
    "        # or the stop is actually at 22180, or 20043. \n",
    "        weekday_sc_trips = data.stop_times[((data.stop_times[\"trip_id\"].isin(weekday_trips)) &\n",
    "                                           (data.stop_times[\"departure_time\"] <= dt.time(9,30)) &\n",
    "                                           (data.stop_times[\"departure_time\"] >= dt.time(7)) &\n",
    "                                           (data.stop_times[\"stop_id\"]==stop))|\n",
    "                                           ((data.stop_times[\"stop_id\"].isin([22180, 20043])) &\n",
    "                                           (data.stop_times[\"trip_id\"].isin(weekday_trips)))]\n",
    "\n",
    "        # Following variables used to track time to CDB\n",
    "        num_trips = 0 # number of trips\n",
    "        time = 0 # total time added\n",
    "\n",
    "        # Loop through the rest of the trip_ids in weekday_sc_trips\n",
    "        # to find out if the trip leads to the destination of\n",
    "        # Southern Cross Station\n",
    "        trip_ids = list(set(weekday_sc_trips[\"trip_id\"]))\n",
    "\n",
    "        # Loop through each trip in trip_ids\n",
    "        for trip in trip_ids:\n",
    "\n",
    "            # Given the trip in trip_ids, check if the trip connected\n",
    "            # to Southern Cross Station\n",
    "            check_trips = weekday_sc_trips[weekday_sc_trips[\"trip_id\"]==trip].reset_index()\n",
    "\n",
    "            # If check_trips has more than one row, which means that \n",
    "            # there is a direct connection to Southern Cross station. \n",
    "            if len(check_trips) > 1:\n",
    "                # Set dep as the time departed from given station \n",
    "                # and arr as the time ended at the Southern Cross station\n",
    "                if check_trips.loc[0, \"stop_id\"] in [22180, 20043]:\n",
    "                    # In case the station before Southern Cross\n",
    "                    dep = check_trips.loc[1, \"departure_time\"]\n",
    "                    arr = check_trips.loc[0, \"arrival_time\"]\n",
    "                else:\n",
    "                    # In case the station below Southern Cross\n",
    "                    dep = check_trips.loc[0, \"departure_time\"]\n",
    "                    arr = check_trips.loc[1, \"arrival_time\"]\n",
    "\n",
    "                # Calculate time difference between departure and arrival\n",
    "                time_delta = dt.datetime.combine(dt.date.today(), arr) - dt.datetime.combine(dt.date.today(), dep)\n",
    "\n",
    "                # Only consider the if the time is larger than zero.\n",
    "                if time_delta.total_seconds() >= 0:\n",
    "                    num_trips += 1                        # Increment counter for number of valid trips\n",
    "                    time += time_delta.total_seconds()/60  # Run tally for total time in minutes\n",
    "\n",
    "        # If there's a valid trip, add station and it's average time to dictionary.\n",
    "        if num_trips > 0:\n",
    "            average_time = time / num_trips\n",
    "            To_SC_times[stop] = average_time\n",
    "                \n",
    "    return To_SC_times\n",
    "# the metro station dictionary \n",
    "met_SC_times = get_sc_time(data_m,met_SC_times,metro_trips)\n",
    "# the regional station dictionary \n",
    "reg_SC_times = get_sc_time(data_r,reg_SC_times,regional_trips)"
   ]
  },
  {
   "cell_type": "code",
   "execution_count": 17,
   "metadata": {},
   "outputs": [],
   "source": [
    "def distance(geoloc1, geoloc2):\n",
    "    \n",
    "    \"\"\"\n",
    "    Input: 2 tuple(lat, long)\n",
    "    Output: arc distance in metres between these two geolocations with earth radius is 6378km\n",
    "    \"\"\"\n",
    "    #long, lat of geolocation 1\n",
    "    lat_1, long_1 = map(math.radians, geoloc1)\n",
    "    \n",
    "    #long, lat of geolocation 2\n",
    "    lat_2, long_2 = map(math.radians, geoloc2)\n",
    "    \n",
    "    #calculate arc\n",
    "    arc = math.sin(0.5*(lat_2 - lat_1)) ** 2 + math.cos(lat_1) * math.cos(lat_2) * math.sin(0.5*(long_2 - long_1)) ** 2 \n",
    "    \n",
    "    # calculate distance\n",
    "    dist = 2 * math.atan2(math.sqrt(arc), math.sqrt(1 - arc)) * 6378 * 1000\n",
    "    \n",
    "    return round(dist,2)"
   ]
  },
  {
   "cell_type": "code",
   "execution_count": 18,
   "metadata": {},
   "outputs": [
    {
     "data": {
      "application/vnd.jupyter.widget-view+json": {
       "model_id": "a861615f76a343b1b676dc9aa1743e45",
       "version_major": 2,
       "version_minor": 0
      },
      "text/plain": [
       "HBox(children=(IntProgress(value=0, max=684), HTML(value='')))"
      ]
     },
     "metadata": {},
     "output_type": "display_data"
    },
    {
     "name": "stdout",
     "output_type": "stream",
     "text": [
      "\n"
     ]
    }
   ],
   "source": [
    "# get all the stops in metro Train system that match the defined criteria\n",
    "stopsm = data_m.stops[data_m.stops[\"stop_id\"].isin(met_SC_times.keys())].reset_index(drop = True)\n",
    "# get all the stops in metro Train system that match the defined criteria\n",
    "stopsr = data_r.stops[data_r.stops[\"stop_id\"].isin(reg_SC_times.keys())].reset_index(drop = True)\n",
    "# Iterate over each property\n",
    "for row in tqdm(range(len(residents))):\n",
    "    \n",
    "    prop_loc = (residents.loc[row, \"Latitude\"], residents.loc[row, \"Longitude\"])  # Position for propertyy\n",
    "\n",
    "    # Initiate the first station_id as the nearest station\n",
    "    nearest_id = stopsm.loc[0, \"stop_id\"]\n",
    "    sta_loc = (stopsm.loc[0, \"stop_lat\"], stopsm.loc[0, \"stop_lon\"])\n",
    "    min_dist = distance(prop_loc, sta_loc)\n",
    "    duration = met_SC_times[nearest_id]\n",
    "\n",
    "    # Loop over each stop in metro system first\n",
    "    for i in range(1, len(stopsm)):\n",
    "        sta_loc = (stopsm.loc[i, \"stop_lat\"], stopsm.loc[i, \"stop_lon\"])\n",
    "        sta_dist = distance(prop_loc, sta_loc)\n",
    "\n",
    "        # If a closer station found\n",
    "        if sta_dist < min_dist:\n",
    "            min_dist = sta_dist\n",
    "            nearest_id = stopsm.loc[i, \"stop_id\"]\n",
    "            duration = met_SC_times[nearest_id]\n",
    "    \n",
    "    # Loop over each stop in regional system second  \n",
    "    for i in range(len(stopsr)):\n",
    "        sta_loc = (stopsr.loc[i, \"stop_lat\"], stopsr.loc[i, \"stop_lon\"])\n",
    "        sta_dist = distance(prop_loc, sta_loc)\n",
    "\n",
    "        # If a closer station found\n",
    "        if sta_dist < min_dist:\n",
    "            min_dist = sta_dist\n",
    "            nearest_id = stopsr.loc[i, \"stop_id\"]\n",
    "            duration = reg_SC_times[nearest_id]\n",
    "    \n",
    "    # Update the station id, distance to CBD, and distance to station.  \n",
    "    residents.loc[row, \"train_station_id\"] = nearest_id\n",
    "    residents.loc[row, \"distance_to_train_station\"] = min_dist\n",
    "    residents.loc[row, \"travel_min_to_CBD\"] = round(duration,2)"
   ]
  },
  {
   "cell_type": "markdown",
   "metadata": {},
   "source": [
    "## I.3. Crimes"
   ]
  },
  {
   "cell_type": "markdown",
   "metadata": {},
   "source": [
    "The average of type A,B,C crime in the local government area the property belongs to, in the three years prior to selling the property as the property. For example, if a property is sold in 2016, then we  calculate the average of the crime type A for 2013, 2014 and 2015.\n",
    "\n",
    "1. Crime data will be grouped by \"year\", \"council\", \"type\"\n",
    "2. For each residential property, based on their council (found by suburb dictionary), we can look at average number of crime type per year for three previous year"
   ]
  },
  {
   "cell_type": "code",
   "execution_count": 19,
   "metadata": {},
   "outputs": [],
   "source": [
    "# Read in council data\n",
    "with open(\"councils.txt\", 'r') as file: councils = file.readlines()\n",
    "# strip the new line off\n",
    "councils = [council.strip() for council in councils]\n",
    "# create column year\n",
    "residents[\"year\"] = residents[\"Date\"].apply(lambda x: x[-4:])\n",
    "council_list = {} #each suburb will have corresponding council in dictionary council_list\n",
    "\n",
    "#loop through each line in councils\n",
    "for line in councils:\n",
    "    #store council value\n",
    "    council = line.split(\":\")[0].strip()\n",
    "    \n",
    "    # get suburbs\n",
    "    suburbs = re.findall(r\"'(.+?)'\", line)\n",
    "    \n",
    "    #loop through suburbs\n",
    "    for suburb in suburbs:\n",
    "        council_list[suburb.upper()] = council  \n",
    "#update council column        \n",
    "residents['council'] = residents['Suburb'].apply(lambda x: council_list[x])\n",
    "\n",
    "# Read crime data\n",
    "crime = pd.read_excel(\"crimebylocationdatatable-yearending31march2016.xlsx\",\n",
    "                        sheet_name=\"Table 1\", #the Table 1 sheet is where data is stored\n",
    "                        skiprows=19) #The first 19 rows is blank\n",
    "\n",
    "# Rename necessary columns for further reference\n",
    "crime = crime.rename(columns={\"Apr - Mar reference period\":\"year\",\n",
    "                              \"Local Government Area\":\"council\",\n",
    "                              \"CSA Offence Division\":\"type\",\n",
    "                              \"Offence Count\":\"count\"})\n",
    "\n",
    "# Getting the letters for type (A,B,C)\n",
    "crime[\"type\"] = crime[\"type\"].apply(lambda x: x[0])\n",
    "\n",
    "#subset crime type A,B,C\n",
    "crime_A = crime[crime[\"type\"] == \"A\"]\n",
    "crime_B = crime[crime[\"type\"] == \"B\"]\n",
    "crime_C = crime[crime[\"type\"] == \"C\"]\n",
    "\n",
    "#for each crime type, groupby year, council to get total value\n",
    "crime_A = crime_A.groupby(by=[\"year\", \"council\", \"type\"]).sum().reset_index()\n",
    "crime_B = crime_B.groupby(by=[\"year\", \"council\", \"type\"]).sum().reset_index()\n",
    "crime_C = crime_C.groupby(by=[\"year\", \"council\", \"type\"]).sum().reset_index()"
   ]
  },
  {
   "cell_type": "code",
   "execution_count": 20,
   "metadata": {},
   "outputs": [
    {
     "data": {
      "application/vnd.jupyter.widget-view+json": {
       "model_id": "6bc8dad6ef604511a463040680a67cbd",
       "version_major": 2,
       "version_minor": 0
      },
      "text/plain": [
       "HBox(children=(IntProgress(value=0, max=684), HTML(value='')))"
      ]
     },
     "metadata": {},
     "output_type": "display_data"
    },
    {
     "name": "stdout",
     "output_type": "stream",
     "text": [
      "\n"
     ]
    }
   ],
   "source": [
    "# Iterate over each row and find crime average\n",
    "for index, loc in tqdm(residents.iterrows(),total = len(residents)):\n",
    "    \n",
    "    # get year\n",
    "    year = int(residents.at[index, \"year\"])\n",
    "    \n",
    "    # get crime of each type of 3 years before\n",
    "    years_prior = [str(year - i) for i in range(1,4)]\n",
    "    # type A\n",
    "    cr_A = crime_A.loc[(crime_A[\"year\"].isin(years_prior)) & (crime_A[\"council\"]==residents.at[index, \"council\"])][\"count\"].mean()\n",
    "    # type B\n",
    "    cr_B = crime_B.loc[(crime_B[\"year\"].isin(years_prior)) & (crime_B[\"council\"]==residents.at[index, \"council\"])][\"count\"].mean()\n",
    "    # type C\n",
    "    cr_C = crime_C.loc[(crime_C[\"year\"].isin(years_prior)) & (crime_C[\"council\"]==residents.at[index, \"council\"])][\"count\"].mean()\n",
    "        \n",
    "    #Update column crime\n",
    "    residents.at[index,'crime_A_average'] = round(cr_A,2)\n",
    "    residents.at[index,'crime_B_average'] = round(cr_B,2)\n",
    "    residents.at[index,'crime_C_average'] = round(cr_C,2)"
   ]
  },
  {
   "cell_type": "markdown",
   "metadata": {},
   "source": [
    "# I.4. Over Priced?"
   ]
  },
  {
   "cell_type": "markdown",
   "metadata": {},
   "source": [
    "<i> A boolean feature indicating whether or not the price of the property is higher than the median price of similar properties (with respect to bedrooms, bathrooms, parking_space, and property_type attributes) in the same suburb on the year of selling </i>\n",
    "\n",
    "We will check if the residental propery sold price is over priced or not via steps:\n",
    "1. For each property, filter all the properties in the dataset that have the same attributes of __bedroom, bathroom, Carspace, property type, suburb, year__ and calculate the mean value of all these house. \n",
    "2. Check if the average (mean) value is higher than the sold price of property, or lower than the sold price of the propety. Higher (not overprice)."
   ]
  },
  {
   "cell_type": "code",
   "execution_count": 21,
   "metadata": {},
   "outputs": [
    {
     "data": {
      "application/vnd.jupyter.widget-view+json": {
       "model_id": "5aed8cfa4bea445aa5051608389d0400",
       "version_major": 2,
       "version_minor": 0
      },
      "text/plain": [
       "HBox(children=(IntProgress(value=0, max=684), HTML(value='')))"
      ]
     },
     "metadata": {},
     "output_type": "display_data"
    },
    {
     "name": "stdout",
     "output_type": "stream",
     "text": [
      "\n"
     ]
    }
   ],
   "source": [
    "for index, loc in tqdm(residents.iterrows(),total = len(residents)):\n",
    "    # Find values for comparison\n",
    "    \n",
    "    # Bedroom\n",
    "    bed = residents.at[index, \"Rooms\"]\n",
    "    # Bathroom\n",
    "    bath = residents.at[index, \"Bathroom\"]\n",
    "    # Carspace\n",
    "    car_space = residents.at[index, \"Car\"]\n",
    "    # property type\n",
    "    ptype = residents.at[index, \"Type\"]\n",
    "    # suburb\n",
    "    sub = residents.at[index, \"Suburb\"]\n",
    "    # year\n",
    "    year = residents.at[index, \"year\"]\n",
    "    \n",
    "    # Filter data set to the rows that have same attributes of\n",
    "    # bedrooms, bathrooms, car_space, type, suburb, and year sold\n",
    "    check_price = residents[(residents[\"Rooms\"]    == bed) &\\\n",
    "                            (residents[\"Bathroom\"] == bath) &\\\n",
    "                            (residents[\"Car\"]      == car_space) &\\\n",
    "                            (residents[\"Type\"]     == ptype) &\\\n",
    "                            (residents[\"Suburb\"]   == sub) &\\\n",
    "                            (residents[\"year\"]     == year)]\n",
    "    \n",
    "    \n",
    "    # Check if the price is higher than the median price of other\n",
    "    # houses with same attributes\n",
    "    if residents.at[index, \"Price\"] > check_price[\"Price\"].median():\n",
    "        # Overprice\n",
    "        residents.at[index, \"over_priced?\"] = 1 \n",
    "    else:\n",
    "        # Not overprice\n",
    "        residents.at[index, \"over_priced?\"] = 0\n",
    "        \n",
    "# Update to boolean value True False        \n",
    "residents[\"over_priced?\"] = residents[\"over_priced?\"].apply(lambda x: True if x == 1 else False)\n",
    "        "
   ]
  },
  {
   "cell_type": "markdown",
   "metadata": {},
   "source": [
    "# I.5 Schools Attributes."
   ]
  },
  {
   "cell_type": "markdown",
   "metadata": {},
   "source": [
    "We will need to scrape for data from Primary Schools and Secondary Schools:\n",
    "* __Primary__ School Ranking can be found in here: http://www.schoolcatchment.com.au/?p=12301\n",
    "\n",
    "* __Secondary__ School Ranking can be found in https://sites.google.com/a/monash.edu/secondary-school-ranking/\n",
    "\n",
    "* __Integrate__ both Primary and Secondary School information into `property.csv` dataframe (named residents)\n",
    "Need to use urllib.request to access website then use BeautifulSoup to scrape the websites. But it's complicated to interact with https://sites.google.com/a/monash.edu/secondary-school-ranking/ so we decide to download the contents as an html file from this url then use BeautifulSoup to parse the contents."
   ]
  },
  {
   "cell_type": "markdown",
   "metadata": {},
   "source": [
    "### I.5.1. Access [Primary School Ranking](http://www.schoolcatchment.com.au/?p=12301) and store the ranking information into a dataframe with pandas\n",
    " * obtain the following information:\n",
    "    * Ranking\n",
    "    * School Name\n",
    "    * State\n",
    "    * School Sector\n",
    "    * Location\n",
    "    * Total Enrolment\n",
    "    * Percentage\n",
    " * store the information into a dataframe\n",
    " * keep the best ranking if the school names are the same (as required by assignment specification)\n",
    " "
   ]
  },
  {
   "cell_type": "code",
   "execution_count": 22,
   "metadata": {},
   "outputs": [],
   "source": [
    "primary_rank_url = 'http://www.schoolcatchment.com.au/?p=12301'\n",
    "\n",
    "# send request to access the url\n",
    "primaryClient = uReq(primary_rank_url)\n",
    "page_html = primaryClient.read()\n",
    "primaryClient.close()\n",
    "\n",
    "page_soup = soup(page_html, \"html.parser\")"
   ]
  },
  {
   "cell_type": "code",
   "execution_count": 23,
   "metadata": {},
   "outputs": [],
   "source": [
    "infile_schools = open(\"schools.xml\",\"r\")\n",
    "contents_schools = infile_schools.read()\n",
    "schools_soup = soup(contents_schools,'xml')\n",
    "\n",
    "# extract school name, school type, locations\n",
    "schools_xml_names_container = schools_soup.findAll(\"School_Name\")\n",
    "schools_xml_names_list = []\n",
    "for names in schools_xml_names_container:\n",
    "    schools_xml_names_list.append(names.get_text())\n",
    "\n",
    "schools_xml_type_container = schools_soup.findAll(\"School_Type\")\n",
    "schools_xml_type_list = []\n",
    "for types in schools_xml_type_container:\n",
    "    schools_xml_type_list.append(types.get_text())\n",
    "\n",
    "# x is actually the longtitude\n",
    "schools_xml_x_container = schools_soup.findAll(\"X\")\n",
    "schools_xml_x_list = []\n",
    "for longtitude in schools_xml_x_container:\n",
    "    schools_xml_x_list.append(longtitude.get_text())\n",
    "\n",
    "# y is latitude\n",
    "schools_xml_y_container = schools_soup.findAll(\"Y\")\n",
    "schools_xml_y_list = []\n",
    "for latitude in schools_xml_y_container:\n",
    "    schools_xml_y_list.append(latitude.get_text())"
   ]
  },
  {
   "cell_type": "markdown",
   "metadata": {},
   "source": [
    "#### I.5.1.1 The ranking information are under 'td' tag and the following:\n",
    "* column-1 contains rank\n",
    "* column-2 contains school name\n",
    "* column-3 contains state\n",
    "* column-4 contains school sector\n",
    "* column-5 contains location\n",
    "* column-6 contains total enrolment\n",
    "* column-7 contains percentage"
   ]
  },
  {
   "cell_type": "code",
   "execution_count": 24,
   "metadata": {},
   "outputs": [],
   "source": [
    "containers_1 = page_soup.findAll(\"td\",{\"class\":\"column-1\"})\n",
    "\n",
    "rank_list = []\n",
    "for container in containers_1:\n",
    "    rank_list.append(container.get_text()) # container.get_text() returns the ranking\n",
    "    \n",
    "containers_2 = page_soup.findAll(\"td\",{\"class\":\"column-2\"})\n",
    "\n",
    "primary_school_name_list = []\n",
    "for container in containers_2:\n",
    "    primary_school_name_list.append(container.get_text()) # container.get_text() returns the school_name\n",
    "    \n",
    "    \n",
    "containers_3 = page_soup.findAll(\"td\",{\"class\":\"column-3\"})\n",
    "\n",
    "state_list = []\n",
    "for container in containers_3:\n",
    "    state_list.append(container.get_text()) # container.get_text() returns the state\n",
    "\n",
    "\n",
    "containers_4 = page_soup.findAll(\"td\",{\"class\":\"column-4\"})\n",
    "\n",
    "school_sector_list = []\n",
    "for container in containers_4:\n",
    "    school_sector_list.append(container.get_text()) # container.get_text() returns the school_sector\n",
    "    \n",
    "    \n",
    "containers_5 = page_soup.findAll(\"td\",{\"class\":\"column-5\"})\n",
    "\n",
    "location_list = []\n",
    "for container in containers_5:\n",
    "    location_list.append(container.get_text()) # container.get_text() returns the location\n",
    "    \n",
    "containers_6 = page_soup.findAll(\"td\",{\"class\":\"column-6\"})\n",
    "\n",
    "enrolment_list = []\n",
    "for container in containers_6:\n",
    "    enrolment_list.append(container.get_text()) # container.get_text() returns the total enrolment\n",
    "    \n",
    "\n",
    "containers_7 = page_soup.findAll(\"td\",{\"class\":\"column-7\"})\n",
    "\n",
    "percentage_list = []\n",
    "for container in containers_7:\n",
    "    percentage_list.append(container.get_text()) # container.get_text() returns the percentage"
   ]
  },
  {
   "cell_type": "code",
   "execution_count": 25,
   "metadata": {},
   "outputs": [],
   "source": [
    "    \n",
    "# Synchronizing name between primary and schools_xml_names_list\n",
    "for i in range(len(schools_xml_names_list)):\n",
    "    for j in range(len(primary_school_name_list)):\n",
    "        if schools_xml_names_list[i].lower() == primary_school_name_list[j].lower():\n",
    "            primary_school_name_list[j] = schools_xml_names_list[i]    "
   ]
  },
  {
   "cell_type": "code",
   "execution_count": 26,
   "metadata": {},
   "outputs": [],
   "source": [
    "# create primary school dataframe to store primary shcool information\n",
    "column_names = ['Ranking','School Name','State','School Sector','Location','Total Enrolment','Percentage']\n",
    "primary_df = pd.DataFrame(columns=column_names)\n",
    "\n",
    "primary_df.Ranking = rank_list\n",
    "primary_df['School Name'] = primary_school_name_list\n",
    "primary_df['State'] = state_list\n",
    "primary_df['School Sector'] = school_sector_list\n",
    "primary_df['Location'] = location_list\n",
    "primary_df['Total Enrolment'] = enrolment_list\n",
    "primary_df['Percentage'] = percentage_list"
   ]
  },
  {
   "cell_type": "markdown",
   "metadata": {},
   "source": [
    "#### I.5.1.2 There are duplicates in rankings, so we keep the highest ranking and remove the duplicates"
   ]
  },
  {
   "cell_type": "code",
   "execution_count": 27,
   "metadata": {},
   "outputs": [],
   "source": [
    "primary_no_duplicate = primary_df.drop_duplicates(subset='School Name',keep='first')\n",
    "primary_no_duplicate = primary_no_duplicate.reset_index(drop= True)"
   ]
  },
  {
   "cell_type": "markdown",
   "metadata": {},
   "source": [
    "### I.5.2. Access [Secondary School Ranking](https://sites.google.com/a/monash.edu/secondary-school-ranking/) and store the ranking information into a dataframe with pandas\n",
    " * obtain the following information:\n",
    "     * School Name\n",
    "     * Ranking\n",
    "     * Change\n",
    "     * Median VCE Study Score\n",
    "     * 40+ Study Score\n",
    " * store the information into a dataframe\n",
    " * keep the best ranking if the school names are the same (as required by assignment specification)"
   ]
  },
  {
   "cell_type": "markdown",
   "metadata": {},
   "source": [
    "#### We download the https://sites.google.com/a/monash.edu/secondary-school-ranking/ to process because it would cause lots of troubles if we have to interact with the website using authenticate\n",
    "\n",
    "* Secondary School Ranking is saved as 'secondary-school-ranking.html'\n",
    "\n",
    "* from browsing the contents, we found that the rank information are under 'ul' tag and the contents are seperated by '\\n\\n\\n\\n' four new line characters, also that in each sinlge ranking content, the information is seperated by '\\n' one single new line character. So we need to clean the body before we can extract the desired information."
   ]
  },
  {
   "cell_type": "code",
   "execution_count": 28,
   "metadata": {},
   "outputs": [],
   "source": [
    "# use beautifulsoup to read the contents in \"secondary-school-ranking.html\"\n",
    "infile_secondary = open(\"secondary-school-ranking.html\",\"r\")\n",
    "contents_secondary = infile_secondary.read()\n",
    "secondary_schools_soup = soup(contents_secondary,'html')"
   ]
  },
  {
   "cell_type": "code",
   "execution_count": 29,
   "metadata": {},
   "outputs": [
    {
     "data": {
      "text/plain": [
       "'Academy of Mary Immaculate,144,-28,31,7.1%'"
      ]
     },
     "execution_count": 29,
     "metadata": {},
     "output_type": "execute_result"
    }
   ],
   "source": [
    "# locate the secondary school information\n",
    "ul = secondary_schools_soup.find_all('ul')\n",
    "\n",
    "# store the school information\n",
    "contents = []\n",
    "for content in ul:\n",
    "    contents.append(content.get_text())\n",
    "\n",
    "# wrangle the contents, remove new lines\n",
    "rank_body = contents[2].strip()\n",
    "split_rank_body = rank_body.split('\\n\\n\\n\\n')\n",
    "\n",
    "# remove new lines and seperate by coma\n",
    "clean_rank_body = []\n",
    "for strings in split_rank_body:\n",
    "    clean_rank_body.append(strings.replace('\\n', ',')) # replace the original seperator <new line character> with coma \n",
    "\n",
    "# display one line of the cleaned body\n",
    "clean_rank_body[0]"
   ]
  },
  {
   "cell_type": "code",
   "execution_count": 30,
   "metadata": {},
   "outputs": [
    {
     "data": {
      "text/html": [
       "<div>\n",
       "<style scoped>\n",
       "    .dataframe tbody tr th:only-of-type {\n",
       "        vertical-align: middle;\n",
       "    }\n",
       "\n",
       "    .dataframe tbody tr th {\n",
       "        vertical-align: top;\n",
       "    }\n",
       "\n",
       "    .dataframe thead th {\n",
       "        text-align: right;\n",
       "    }\n",
       "</style>\n",
       "<table border=\"1\" class=\"dataframe\">\n",
       "  <thead>\n",
       "    <tr style=\"text-align: right;\">\n",
       "      <th></th>\n",
       "      <th>School Name</th>\n",
       "      <th>Ranking</th>\n",
       "      <th>Change</th>\n",
       "      <th>Median VCE Study Score</th>\n",
       "      <th>40+ Study Score</th>\n",
       "    </tr>\n",
       "  </thead>\n",
       "  <tbody>\n",
       "    <tr>\n",
       "      <th>0</th>\n",
       "      <td>Academy of Mary Immaculate</td>\n",
       "      <td>144</td>\n",
       "      <td>-28</td>\n",
       "      <td>31</td>\n",
       "      <td>7.1%</td>\n",
       "    </tr>\n",
       "    <tr>\n",
       "      <th>1</th>\n",
       "      <td>Adass Israel School</td>\n",
       "      <td>534</td>\n",
       "      <td>-1</td>\n",
       "      <td>N/A</td>\n",
       "      <td>N/A</td>\n",
       "    </tr>\n",
       "    <tr>\n",
       "      <th>2</th>\n",
       "      <td>Advance College of Education</td>\n",
       "      <td>535</td>\n",
       "      <td>-1</td>\n",
       "      <td>N/A</td>\n",
       "      <td>N/A</td>\n",
       "    </tr>\n",
       "    <tr>\n",
       "      <th>3</th>\n",
       "      <td>Aitken College</td>\n",
       "      <td>194</td>\n",
       "      <td>+32</td>\n",
       "      <td>30</td>\n",
       "      <td>4.8%</td>\n",
       "    </tr>\n",
       "    <tr>\n",
       "      <th>4</th>\n",
       "      <td>Al Siraat College</td>\n",
       "      <td>280</td>\n",
       "      <td>+172</td>\n",
       "      <td>28</td>\n",
       "      <td>5.4%</td>\n",
       "    </tr>\n",
       "  </tbody>\n",
       "</table>\n",
       "</div>"
      ],
      "text/plain": [
       "                    School Name Ranking Change Median VCE Study Score 40+ Study Score\n",
       "0    Academy of Mary Immaculate     144    -28                     31            7.1%\n",
       "1           Adass Israel School     534     -1                    N/A             N/A\n",
       "2  Advance College of Education     535     -1                    N/A             N/A\n",
       "3                Aitken College     194    +32                     30            4.8%\n",
       "4             Al Siraat College     280   +172                     28            5.4%"
      ]
     },
     "execution_count": 30,
     "metadata": {},
     "output_type": "execute_result"
    }
   ],
   "source": [
    "# create secondary_ranking dataframe to store secondary school information\n",
    "column_name = ['School Name', 'Ranking', 'Change', 'Median VCE Study Score', '40+ Study Score']\n",
    "\n",
    "secondary_ranking_df = pd.DataFrame(columns = column_name)\n",
    "\n",
    "secondary_school_name = []\n",
    "secondary_ranking = []\n",
    "change = []\n",
    "median_score = []\n",
    "forty_plus = []\n",
    "for item in clean_rank_body:\n",
    "    temp = item.split(',') # seperate the information by coma\n",
    "    secondary_school_name.append(temp[0])\n",
    "    secondary_ranking.append(temp[1])\n",
    "    change.append(temp[2])\n",
    "    median_score.append(temp[3])\n",
    "    forty_plus.append(temp[4])\n",
    "    \n",
    "secondary_ranking_df['School Name'] = secondary_school_name\n",
    "secondary_ranking_df['Ranking'] = secondary_ranking\n",
    "secondary_ranking_df['Change'] = change\n",
    "secondary_ranking_df['Median VCE Study Score'] = median_score\n",
    "secondary_ranking_df['40+ Study Score'] = forty_plus\n",
    "\n",
    "secondary_ranking_df.head()"
   ]
  },
  {
   "cell_type": "code",
   "execution_count": 31,
   "metadata": {},
   "outputs": [],
   "source": [
    "secondary_ranking_df = secondary_ranking_df.astype({'Ranking': 'int32'})\n",
    "secondary_ranking_df = secondary_ranking_df.sort_values(by = 'Ranking')\n",
    "secondary_ranking_df = secondary_ranking_df.reset_index(drop = True)"
   ]
  },
  {
   "cell_type": "code",
   "execution_count": 32,
   "metadata": {},
   "outputs": [],
   "source": [
    "# remove duplicates and keep the highest ranking\n",
    "secondary_no_duplicate = secondary_ranking_df.drop_duplicates(subset='School Name', keep='first')\n",
    "secondary_no_duplicate = secondary_no_duplicate.reset_index(drop = True)"
   ]
  },
  {
   "cell_type": "code",
   "execution_count": 33,
   "metadata": {},
   "outputs": [
    {
     "data": {
      "text/html": [
       "<div>\n",
       "<style scoped>\n",
       "    .dataframe tbody tr th:only-of-type {\n",
       "        vertical-align: middle;\n",
       "    }\n",
       "\n",
       "    .dataframe tbody tr th {\n",
       "        vertical-align: top;\n",
       "    }\n",
       "\n",
       "    .dataframe thead th {\n",
       "        text-align: right;\n",
       "    }\n",
       "</style>\n",
       "<table border=\"1\" class=\"dataframe\">\n",
       "  <thead>\n",
       "    <tr style=\"text-align: right;\">\n",
       "      <th></th>\n",
       "      <th>School Name</th>\n",
       "      <th>Ranking</th>\n",
       "      <th>Change</th>\n",
       "      <th>Median VCE Study Score</th>\n",
       "      <th>40+ Study Score</th>\n",
       "    </tr>\n",
       "  </thead>\n",
       "  <tbody>\n",
       "    <tr>\n",
       "      <th>13</th>\n",
       "      <td>Melbourne Grammar School</td>\n",
       "      <td>14</td>\n",
       "      <td>+28</td>\n",
       "      <td>36</td>\n",
       "      <td>27.5%</td>\n",
       "    </tr>\n",
       "  </tbody>\n",
       "</table>\n",
       "</div>"
      ],
      "text/plain": [
       "                 School Name  Ranking Change Median VCE Study Score 40+ Study Score\n",
       "13  Melbourne Grammar School       14    +28                     36           27.5%"
      ]
     },
     "execution_count": 33,
     "metadata": {},
     "output_type": "execute_result"
    }
   ],
   "source": [
    "secondary_ranking_df[secondary_ranking_df['School Name'] == \"Melbourne Grammar School\"]"
   ]
  },
  {
   "cell_type": "markdown",
   "metadata": {},
   "source": [
    "### I.5.3. Integrate Primary and Secondary School Ranking into residents dataframe (property.csv)\n",
    "\n",
    "We need to integrate the following:\n",
    "* ranking by primary and secondary schools\n",
    "  * use if-else control structure to match ranking and school names\n",
    "* closest primary and secondary schools\n",
    "  * use priviously defined distance() function to loop through dataframe to find closest distance, keep track with dataframe index\n",
    "  * then use dictionary to match the distance and the index and retrieve the school names respectively\n",
    "* distance from primary and secondary schools"
   ]
  },
  {
   "cell_type": "markdown",
   "metadata": {},
   "source": [
    "#### I.5.3.1 Replace html mark up with their corresponding signs"
   ]
  },
  {
   "cell_type": "code",
   "execution_count": 34,
   "metadata": {},
   "outputs": [],
   "source": [
    "# return the \" ' \" sign from html mark up\n",
    "for i in schools_soup.findAll('School_Name'):\n",
    "    if i.text == \"&apos;\" in i.text:\n",
    "        i.string = \"'\"\n",
    "        \n",
    "for i in schools_soup.findAll('Address_Line_1'):\n",
    "    if i.text == \"&apos;\" in i.text:\n",
    "        i.string = \"'\""
   ]
  },
  {
   "cell_type": "markdown",
   "metadata": {},
   "source": [
    "#### I.5.3.2 Extract school name,school type,  longtitude and latitude"
   ]
  },
  {
   "cell_type": "code",
   "execution_count": 35,
   "metadata": {},
   "outputs": [],
   "source": [
    "# create a schools_xml dataframe in order to integrate school information obtained from websites\n",
    "p_schools_xml_colnames = ['School Name', 'School Type', 'X', 'Y', 'Ranking']\n",
    "p_schools_xml_df = pd.DataFrame(columns=p_schools_xml_colnames)\n",
    "p_schools_xml_df['School Name'] = schools_xml_names_list\n",
    "p_schools_xml_df['School Type'] = schools_xml_type_list\n",
    "p_schools_xml_df['X'] = schools_xml_x_list\n",
    "p_schools_xml_df['Y'] = schools_xml_y_list\n",
    "\n",
    "s_schools_xml_colnames = ['School Name', 'School Type', 'X', 'Y', 'Ranking']\n",
    "s_schools_xml_df = pd.DataFrame(columns=s_schools_xml_colnames)\n",
    "s_schools_xml_df['School Name'] = schools_xml_names_list\n",
    "s_schools_xml_df['School Type'] = schools_xml_type_list\n",
    "s_schools_xml_df['X'] = schools_xml_x_list\n",
    "s_schools_xml_df['Y'] = schools_xml_y_list"
   ]
  },
  {
   "cell_type": "markdown",
   "metadata": {},
   "source": [
    "#### I.5.3.3 Integrate the ranking"
   ]
  },
  {
   "cell_type": "code",
   "execution_count": 37,
   "metadata": {},
   "outputs": [],
   "source": [
    "# integrate school rankings into schools_xml dataframe\n",
    "p_schools_names_dictionary = {}\n",
    "s_schools_names_dictionary = {}\n",
    "\n",
    "unique_school_name = set(schools_xml_names_list)\n",
    "\n",
    "for name in unique_school_name:\n",
    "    # integrate primary school ranking\n",
    "    if name in primary_school_name_list:\n",
    "        ranking = primary_no_duplicate.loc[primary_no_duplicate['School Name']==name].Ranking.values[0]\n",
    "        p_schools_names_dictionary[name] = int(ranking)\n",
    "    if name in secondary_school_name:\n",
    "        ranking = secondary_no_duplicate.loc[secondary_no_duplicate['School Name']==name].Ranking.values[0]\n",
    "        s_schools_names_dictionary[name] = int(ranking)"
   ]
  },
  {
   "cell_type": "code",
   "execution_count": 38,
   "metadata": {},
   "outputs": [],
   "source": [
    "for index, row in p_schools_xml_df.iterrows():\n",
    "    if p_schools_xml_df.at[index, 'School Name'] in set(p_schools_names_dictionary.keys()):\n",
    "        rank = p_schools_names_dictionary[p_schools_xml_df.at[index, 'School Name']]\n",
    "        p_schools_xml_df.at[index, 'Ranking'] = rank\n",
    "    else:\n",
    "        p_schools_xml_df.at[index, 'Ranking'] = -1\n",
    "        \n",
    "for index, row in s_schools_xml_df.iterrows():\n",
    "    if s_schools_xml_df.at[index, 'School Name'] in set(s_schools_names_dictionary.keys()):\n",
    "        rank = s_schools_names_dictionary[s_schools_xml_df.at[index, 'School Name']]\n",
    "        s_schools_xml_df.at[index, 'Ranking'] = rank\n",
    "    else:\n",
    "        s_schools_xml_df.at[index, 'Ranking'] = -1"
   ]
  },
  {
   "cell_type": "code",
   "execution_count": 39,
   "metadata": {},
   "outputs": [],
   "source": [
    "p_schools_xml_df = p_schools_xml_df[(p_schools_xml_df['School Type'] == 'Primary') | (p_schools_xml_df['School Type'] == 'Pri/Sec')]\n",
    "s_schools_xml_df = s_schools_xml_df[(s_schools_xml_df['School Type'] == 'Secondary') | (s_schools_xml_df['School Type'] == 'Pri/Sec')]"
   ]
  },
  {
   "cell_type": "markdown",
   "metadata": {},
   "source": [
    "#### I.5.3.4 Calculate closest distance for primary and secondary schools based on latitude and longtitude using UDF distance() function. Keep track with the dataframe index and create a dictionary based on the distance and index."
   ]
  },
  {
   "cell_type": "markdown",
   "metadata": {},
   "source": [
    "For each residential property, we can find the nearest school by arc distance. If the school does not have ranking, the ranking column is labeled as \"not ranked\""
   ]
  },
  {
   "cell_type": "code",
   "execution_count": 40,
   "metadata": {},
   "outputs": [
    {
     "data": {
      "application/vnd.jupyter.widget-view+json": {
       "model_id": "e8ce3b0698e24ea2a56b2b06c9bf0f7d",
       "version_major": 2,
       "version_minor": 0
      },
      "text/plain": [
       "HBox(children=(IntProgress(value=0, max=684), HTML(value='')))"
      ]
     },
     "metadata": {},
     "output_type": "display_data"
    },
    {
     "name": "stdout",
     "output_type": "stream",
     "text": [
      "\n"
     ]
    }
   ],
   "source": [
    "for index, row in tqdm(residents.iterrows(), total = len(residents)):\n",
    "   \n",
    "    pri_closest = 999999999. #initiate the furthest values\n",
    "    pri_name = ''\n",
    "    pri_rank = -2\n",
    "    sec_closest = 999999999.\n",
    "    sec_name = ''\n",
    "    sec_rank = -2\n",
    "    \n",
    "    location_1 = []\n",
    "    location_1.append(row['Latitude'])\n",
    "    location_1.append(row['Longitude'])\n",
    "    \n",
    "    for index_s, row_s in p_schools_xml_df.iterrows():\n",
    "        location_temp = []\n",
    "        location_temp.append(float(row_s['Y'])) # change the string type to float type\n",
    "        location_temp.append(float(row_s['X'])) # change the string type to float type\n",
    "            # finding the closest primary\n",
    "        pri_dist = distance(location_1, location_temp)\n",
    "        if pri_closest >= pri_dist:\n",
    "            pri_closest = pri_dist\n",
    "            pri_name = row_s['School Name']\n",
    "            pri_rank = row_s['Ranking']\n",
    "\n",
    "                \n",
    "    for index_s, row_s in s_schools_xml_df.iterrows():\n",
    "        location_temp = []\n",
    "        location_temp.append(float(row_s['Y'])) # change the string type to float type\n",
    "        location_temp.append(float(row_s['X'])) # change the string type to float type            \n",
    "            # finding the closest secondary\n",
    "        sec_dist = distance(location_1, location_temp)\n",
    "        if sec_closest >= sec_dist:\n",
    "            sec_closest = sec_dist\n",
    "            sec_name = row_s['School Name']\n",
    "            sec_rank = row_s['Ranking']\n",
    "\n",
    "    \n",
    "    residents.at[index, 'primary_school_ranking'] = pri_rank\n",
    "    residents.at[index, 'closest_primary_school'] = pri_name\n",
    "    residents.at[index, 'distance_to_closest_primary'] = pri_closest\n",
    "    \n",
    "    residents.at[index, 'secondary_school_ranking'] = sec_rank\n",
    "    residents.at[index, 'closest_secondary_school'] = sec_name\n",
    "    residents.at[index, 'distance_to_closest_secondary'] = sec_closest\n",
    "    \n",
    "# change the ranking value to 'not ranked' if the value is default value -1\n",
    "def not_ranked(minusone):\n",
    "    if minusone == -1:\n",
    "        return 'not ranked'\n",
    "    else:\n",
    "        return minusone\n",
    "    \n",
    "residents['primary_school_ranking'] = residents['primary_school_ranking'].apply(lambda x: not_ranked(x)) \n",
    "residents['secondary_school_ranking'] = residents['secondary_school_ranking'].apply(lambda x: not_ranked(x)) "
   ]
  },
  {
   "cell_type": "code",
   "execution_count": 41,
   "metadata": {},
   "outputs": [],
   "source": [
    "# produce output to _solution\n",
    "residents = residents[ori_col]\n",
    "residents.to_csv('property_solution.csv', index = False)"
   ]
  },
  {
   "cell_type": "markdown",
   "metadata": {},
   "source": [
    "# II. Data Reshaping"
   ]
  },
  {
   "cell_type": "markdown",
   "metadata": {},
   "source": [
    "We will study the effect of different normalization/transformation methods on Rooms, crime_C_average, travel_min_to_CBD, and property_age attributes. "
   ]
  },
  {
   "cell_type": "markdown",
   "metadata": {},
   "source": [
    "## II.1. Standardization"
   ]
  },
  {
   "cell_type": "markdown",
   "metadata": {},
   "source": [
    "Standarisation is also used to bring all the variables to a similar scale. Standarisation means centering the variable at zero, and standarising the variance at 1. The procedure involves subtracting the mean of each observation and then dividing by the standard deviation:\n",
    "\n",
    "z = (x - x_mean) /  std"
   ]
  },
  {
   "cell_type": "code",
   "execution_count": 43,
   "metadata": {},
   "outputs": [],
   "source": [
    "# read data from last solution.\n",
    "data = pd.read_csv('property_solution.csv', usecols = [\"Rooms\", \"crime_C_average\", \"travel_min_to_CBD\", \"Age\", \"Price\"])"
   ]
  },
  {
   "cell_type": "code",
   "execution_count": 44,
   "metadata": {},
   "outputs": [],
   "source": [
    "def diagnostic_plots(df, variable):\n",
    "    # function takes a dataframe (df) and\n",
    "    # the variable of interest as arguments\n",
    "\n",
    "    # define figure size\n",
    "    plt.figure(figsize=(16, 4))\n",
    "\n",
    "    # histogram\n",
    "    plt.subplot(1, 3, 1)\n",
    "    sns.distplot(df[variable], bins=30)\n",
    "    plt.title('Histogram')\n",
    "\n",
    "    # Q-Q plot\n",
    "    plt.subplot(1, 3, 2)\n",
    "    stats.probplot(df[variable], dist=\"norm\", plot=plt)\n",
    "    plt.ylabel('Variable quantiles')\n",
    "\n",
    "    # boxplot\n",
    "    plt.subplot(1, 3, 3)\n",
    "    sns.boxplot(y=df[variable])\n",
    "    plt.title('Boxplot')\n",
    "\n",
    "    plt.show()"
   ]
  },
  {
   "cell_type": "code",
   "execution_count": 45,
   "metadata": {},
   "outputs": [
    {
     "data": {
      "image/png": "[encoded data removed]",
      "text/plain": [
       "<Figure size 1152x288 with 3 Axes>"
      ]
     },
     "metadata": {
      "needs_background": "light"
     },
     "output_type": "display_data"
    },
    {
     "data": {
      "image/png": "[encoded data removed]",
      "text/plain": [
       "<Figure size 1152x288 with 3 Axes>"
      ]
     },
     "metadata": {
      "needs_background": "light"
     },
     "output_type": "display_data"
    },
    {
     "data": {
      "image/png": "[encoded data removed]",
      "text/plain": [
       "<Figure size 1152x288 with 3 Axes>"
      ]
     },
     "metadata": {
      "needs_background": "light"
     },
     "output_type": "display_data"
    },
    {
     "data": {
      "image/png": "[encoded data removed]",
      "text/plain": [
       "<Figure size 1152x288 with 3 Axes>"
      ]
     },
     "metadata": {
      "needs_background": "light"
     },
     "output_type": "display_data"
    }
   ],
   "source": [
    "diagnostic_plots(data, 'Rooms')\n",
    "diagnostic_plots(data, 'crime_C_average')\n",
    "diagnostic_plots(data, 'travel_min_to_CBD')\n",
    "diagnostic_plots(data, 'Age')"
   ]
  },
  {
   "cell_type": "code",
   "execution_count": 46,
   "metadata": {},
   "outputs": [
    {
     "data": {
      "text/html": [
       "<div>\n",
       "<style scoped>\n",
       "    .dataframe tbody tr th:only-of-type {\n",
       "        vertical-align: middle;\n",
       "    }\n",
       "\n",
       "    .dataframe tbody tr th {\n",
       "        vertical-align: top;\n",
       "    }\n",
       "\n",
       "    .dataframe thead th {\n",
       "        text-align: right;\n",
       "    }\n",
       "</style>\n",
       "<table border=\"1\" class=\"dataframe\">\n",
       "  <thead>\n",
       "    <tr style=\"text-align: right;\">\n",
       "      <th></th>\n",
       "      <th>Price</th>\n",
       "      <th>Rooms</th>\n",
       "      <th>Age</th>\n",
       "      <th>travel_min_to_CBD</th>\n",
       "      <th>crime_C_average</th>\n",
       "    </tr>\n",
       "  </thead>\n",
       "  <tbody>\n",
       "    <tr>\n",
       "      <th>count</th>\n",
       "      <td>6.840000e+02</td>\n",
       "      <td>684.000000</td>\n",
       "      <td>684.000000</td>\n",
       "      <td>684.000000</td>\n",
       "      <td>684.000000</td>\n",
       "    </tr>\n",
       "    <tr>\n",
       "      <th>mean</th>\n",
       "      <td>1.066358e+06</td>\n",
       "      <td>2.906433</td>\n",
       "      <td>55.517544</td>\n",
       "      <td>26.518626</td>\n",
       "      <td>454.917076</td>\n",
       "    </tr>\n",
       "    <tr>\n",
       "      <th>std</th>\n",
       "      <td>6.257420e+05</td>\n",
       "      <td>0.926281</td>\n",
       "      <td>45.208008</td>\n",
       "      <td>10.701869</td>\n",
       "      <td>403.846943</td>\n",
       "    </tr>\n",
       "    <tr>\n",
       "      <th>min</th>\n",
       "      <td>1.450000e+05</td>\n",
       "      <td>1.000000</td>\n",
       "      <td>2.000000</td>\n",
       "      <td>0.000000</td>\n",
       "      <td>1.000000</td>\n",
       "    </tr>\n",
       "    <tr>\n",
       "      <th>25%</th>\n",
       "      <td>6.407500e+05</td>\n",
       "      <td>2.000000</td>\n",
       "      <td>24.000000</td>\n",
       "      <td>19.400000</td>\n",
       "      <td>159.330000</td>\n",
       "    </tr>\n",
       "    <tr>\n",
       "      <th>50%</th>\n",
       "      <td>8.950000e+05</td>\n",
       "      <td>3.000000</td>\n",
       "      <td>49.000000</td>\n",
       "      <td>26.380000</td>\n",
       "      <td>371.830000</td>\n",
       "    </tr>\n",
       "    <tr>\n",
       "      <th>75%</th>\n",
       "      <td>1.311250e+06</td>\n",
       "      <td>3.000000</td>\n",
       "      <td>74.000000</td>\n",
       "      <td>32.140000</td>\n",
       "      <td>586.670000</td>\n",
       "    </tr>\n",
       "    <tr>\n",
       "      <th>max</th>\n",
       "      <td>4.735000e+06</td>\n",
       "      <td>8.000000</td>\n",
       "      <td>823.000000</td>\n",
       "      <td>68.820000</td>\n",
       "      <td>2042.330000</td>\n",
       "    </tr>\n",
       "  </tbody>\n",
       "</table>\n",
       "</div>"
      ],
      "text/plain": [
       "              Price       Rooms         Age  travel_min_to_CBD  crime_C_average\n",
       "count  6.840000e+02  684.000000  684.000000         684.000000       684.000000\n",
       "mean   1.066358e+06    2.906433   55.517544          26.518626       454.917076\n",
       "std    6.257420e+05    0.926281   45.208008          10.701869       403.846943\n",
       "min    1.450000e+05    1.000000    2.000000           0.000000         1.000000\n",
       "25%    6.407500e+05    2.000000   24.000000          19.400000       159.330000\n",
       "50%    8.950000e+05    3.000000   49.000000          26.380000       371.830000\n",
       "75%    1.311250e+06    3.000000   74.000000          32.140000       586.670000\n",
       "max    4.735000e+06    8.000000  823.000000          68.820000      2042.330000"
      ]
     },
     "execution_count": 46,
     "metadata": {},
     "output_type": "execute_result"
    }
   ],
   "source": [
    "data.describe()"
   ]
  },
  {
   "cell_type": "markdown",
   "metadata": {},
   "source": [
    "__Observation__: From the diagnostic plot and data description above, we can see that the range of values in columns is highly varied. For example, crime_C_average is in hundreds, while Age is in tens. \n",
    "\n",
    "__Suggested Solution__: if the value of predictor is highly variance in larger scale, it will dominate the prediction of model. We will nomalize values without changing the shape of the distribution. The Price is the target variable, thus cannot affect the accuracy, we will not normalize Price.\n",
    "\n",
    "__Normalization Methods__: standarisation or min-max(scaling):\n",
    "\n",
    "    * standarization: the distribution will in center around zero and standard deviation is 1.\n",
    "    * min_max : distribution ranging from 0 (for min) and 1 (for max)\n",
    "    \n",
    "For data that has max value is really high like Age, using min_max will shift most of the data towards min. Therefor min_max method will not be a good choice in this case. We will use standarisation."
   ]
  },
  {
   "cell_type": "code",
   "execution_count": 47,
   "metadata": {},
   "outputs": [
    {
     "data": {
      "text/plain": [
       "(<matplotlib.axes._subplots.AxesSubplot at 0x2cae95efcc0>,\n",
       " <matplotlib.axes._subplots.AxesSubplot at 0x2cae95efcc0>,\n",
       " <matplotlib.axes._subplots.AxesSubplot at 0x2cae95efcc0>,\n",
       " <matplotlib.axes._subplots.AxesSubplot at 0x2cae95efcc0>)"
      ]
     },
     "execution_count": 47,
     "metadata": {},
     "output_type": "execute_result"
    },
    {
     "data": {
      "image/png": "[encoded data removed]",
      "text/plain": [
       "<Figure size 432x288 with 1 Axes>"
      ]
     },
     "metadata": {
      "needs_background": "light"
     },
     "output_type": "display_data"
    }
   ],
   "source": [
    "data[\"Rooms\"].plot(), \\\n",
    "data[\"travel_min_to_CBD\"].plot(), \\\n",
    "data[\"crime_C_average\"].plot(), \\\n",
    "data[\"Age\"].plot()"
   ]
  },
  {
   "cell_type": "code",
   "execution_count": 48,
   "metadata": {},
   "outputs": [],
   "source": [
    "scaled_col = [\"Rooms\", \"crime_C_average\", \"travel_min_to_CBD\", \"Age\"]"
   ]
  },
  {
   "cell_type": "code",
   "execution_count": 49,
   "metadata": {},
   "outputs": [],
   "source": [
    "scaler = StandardScaler()\n",
    "data_noprice = data[scaled_col]\n",
    "data_scaled = scaler.fit_transform(data_noprice)\n",
    "data_scaled = pd.DataFrame(data_scaled, columns=data_noprice.columns)"
   ]
  },
  {
   "cell_type": "code",
   "execution_count": 50,
   "metadata": {},
   "outputs": [
    {
     "data": {
      "image/png": "[encoded data removed]",
      "text/plain": [
       "<Figure size 864x360 with 2 Axes>"
      ]
     },
     "metadata": {
      "needs_background": "light"
     },
     "output_type": "display_data"
    }
   ],
   "source": [
    "# let's compare the variable distributions before and after scaling\n",
    "\n",
    "fig, (ax1, ax2) = plt.subplots(ncols=2, figsize=(12, 5))\n",
    "\n",
    "# before scaling\n",
    "ax1.set_title('Before standarisation')\n",
    "sns.kdeplot(data['Rooms'], ax=ax1)\n",
    "sns.kdeplot(data['crime_C_average'], ax=ax1)\n",
    "sns.kdeplot(data['travel_min_to_CBD'], ax=ax1)\n",
    "sns.kdeplot(data['Age'], ax=ax1)\n",
    "\n",
    "# after scaling\n",
    "ax2.set_title('After standarisation')\n",
    "sns.kdeplot(data_scaled['Rooms'], ax=ax2)\n",
    "sns.kdeplot(data_scaled['crime_C_average'], ax=ax2)\n",
    "sns.kdeplot(data_scaled['travel_min_to_CBD'], ax=ax2)\n",
    "sns.kdeplot(data_scaled['Age'], ax=ax2)\n",
    "plt.show()"
   ]
  },
  {
   "cell_type": "markdown",
   "metadata": {},
   "source": [
    "## II.2. Transformation"
   ]
  },
  {
   "cell_type": "markdown",
   "metadata": {},
   "source": [
    "__Transformation__: from the data above we can see that Age, crime_C_average, travel_min_to_CBD are positively skewed after being standarized. Skewed attributes will effect linear model, and thus should be transformed. \n"
   ]
  },
  {
   "cell_type": "code",
   "execution_count": 51,
   "metadata": {},
   "outputs": [],
   "source": [
    "# create new transformed data\n",
    "\n",
    "# Log Transformed\n",
    "data_log = pd.DataFrame()\n",
    "# Square root transformed\n",
    "data_sqrt = pd.DataFrame()\n",
    "\n",
    "# crime_C_average\n",
    "data_sqrt['crime_C_average'] = data['crime_C_average'].apply(lambda x: x**0.5)\n",
    "data_log['crime_C_average'] = data['crime_C_average'].apply(math.log1p)\n",
    "\n",
    "# travel_min_to_CBD\n",
    "data_sqrt['travel_min_to_CBD'] = data['travel_min_to_CBD'].apply(lambda x: x**0.5)\n",
    "data_log['travel_min_to_CBD'] = data['travel_min_to_CBD'].apply(math.log1p)\n",
    "\n",
    "# Age\n",
    "data_sqrt['Age'] = data['Age'].apply(lambda x: x**0.5)\n",
    "data_log['Age'] = data['Age'].apply(math.log1p)\n",
    "\n",
    "# Price\n",
    "data_sqrt['Price'] = data['Price'].apply(lambda x: x**0.5)\n",
    "data_log['Price'] = data['Price'].apply(math.log1p)\n",
    "# Rooms\n",
    "data_sqrt['Rooms'] = data['Rooms'].apply(lambda x: x**0.5)\n",
    "data_log['Rooms'] = data['Rooms'].apply(math.log1p)"
   ]
  },
  {
   "cell_type": "code",
   "execution_count": 52,
   "metadata": {},
   "outputs": [
    {
     "name": "stdout",
     "output_type": "stream",
     "text": [
      "Pearson Correlation before transformation of crime: 0.18346048052471195\n",
      "Pearson Correlation after log transformation: 0.09509391675849836\n",
      "Pearson Correlation after square root transformation: 0.1449474675848826\n"
     ]
    },
    {
     "data": {
      "image/png": "[encoded data removed]",
      "text/plain": [
       "<Figure size 1296x360 with 3 Axes>"
      ]
     },
     "metadata": {
      "needs_background": "light"
     },
     "output_type": "display_data"
    }
   ],
   "source": [
    "fig, (ax1, ax2, ax3) = plt.subplots(ncols=3, figsize=(18, 5))\n",
    "\n",
    "ax1.set_title('No transformation')\n",
    "ax1.scatter(data[\"crime_C_average\"], data[\"Price\"])\n",
    "ax3.set_title('Log transformation')\n",
    "ax3.scatter(data_log[\"crime_C_average\"], data_log[\"Price\"])\n",
    "ax2.set_title('Root transformation')\n",
    "ax2.scatter(data_sqrt[\"crime_C_average\"], data_sqrt[\"Price\"])\n",
    "\n",
    "\n",
    "print('Pearson Correlation before transformation of crime: {}'.format(pearsonr(data['crime_C_average'],data['Price'])[0]))\n",
    "print('Pearson Correlation after log transformation: {}'.format(pearsonr(data_log['crime_C_average'],data['Price'])[0]))\n",
    "print('Pearson Correlation after square root transformation: {}'.format(pearsonr(data_sqrt['crime_C_average'],data['Price'])[0]))"
   ]
  },
  {
   "cell_type": "markdown",
   "metadata": {},
   "source": [
    "For __crime_C_average__ we can get a stronger linear relationship with __Price__ after without doing transformation. "
   ]
  },
  {
   "cell_type": "code",
   "execution_count": 53,
   "metadata": {},
   "outputs": [
    {
     "name": "stdout",
     "output_type": "stream",
     "text": [
      "Pearson Correlation before transformation of travel minutes: -0.15276167025247694\n",
      "Pearson Correlation after square root transformation: -0.13950159962082964\n",
      "Pearson Correlation after log transformation: -0.12048756002023447\n"
     ]
    },
    {
     "data": {
      "image/png": "[encoded data removed]",
      "text/plain": [
       "<Figure size 1296x360 with 3 Axes>"
      ]
     },
     "metadata": {
      "needs_background": "light"
     },
     "output_type": "display_data"
    }
   ],
   "source": [
    "fig, (ax1, ax2, ax3) = plt.subplots(ncols=3, figsize=(18, 5))\n",
    "\n",
    "ax1.set_title('No transformation')\n",
    "ax1.scatter(data[\"travel_min_to_CBD\"], data[\"Price\"])\n",
    "ax2.set_title('Root transformation')\n",
    "ax2.scatter(data_sqrt[\"travel_min_to_CBD\"], data_sqrt[\"Price\"])\n",
    "ax3.set_title('Log transformation')\n",
    "ax3.scatter(data_log[\"travel_min_to_CBD\"], data_log[\"Price\"])\n",
    "\n",
    "print('Pearson Correlation before transformation of travel minutes: {}'.format(pearsonr(data['travel_min_to_CBD'],data['Price'])[0]))\n",
    "print('Pearson Correlation after square root transformation: {}'.format(pearsonr(data_sqrt['travel_min_to_CBD'],data['Price'])[0]))\n",
    "print('Pearson Correlation after log transformation: {}'.format(pearsonr(data_log['travel_min_to_CBD'],data['Price'])[0]))"
   ]
  },
  {
   "cell_type": "markdown",
   "metadata": {},
   "source": [
    "For __travel_min_to_CBD__ we can get a stronger linear relationship with __Price__ after without doing transformation. "
   ]
  },
  {
   "cell_type": "code",
   "execution_count": 55,
   "metadata": {},
   "outputs": [
    {
     "name": "stdout",
     "output_type": "stream",
     "text": [
      "Pearson Correlation before transformation of Rooms: 0.4649864676206458\n",
      "Pearson Correlation after square root transformation: 0.46647131200065145\n",
      "Pearson Correlation after log transformation: 0.4648056166483289\n"
     ]
    },
    {
     "data": {
      "image/png": "[encoded data removed]",
      "text/plain": [
       "<Figure size 1296x360 with 3 Axes>"
      ]
     },
     "metadata": {
      "needs_background": "light"
     },
     "output_type": "display_data"
    }
   ],
   "source": [
    "fig, (ax1, ax2, ax3) = plt.subplots(ncols=3, figsize=(18, 5))\n",
    "\n",
    "ax1.set_title('No transformation')\n",
    "ax1.scatter(data[\"Rooms\"], data[\"Price\"])\n",
    "ax2.set_title('Root transformation')\n",
    "ax2.scatter(data_sqrt[\"Rooms\"], data_sqrt[\"Price\"])\n",
    "ax3.set_title('Log transformation')\n",
    "ax3.scatter(data_log[\"Rooms\"], data_log[\"Price\"])\n",
    "\n",
    "print('Pearson Correlation before transformation of Rooms: {}'.format(pearsonr(data['Rooms'],data['Price'])[0]))\n",
    "print('Pearson Correlation after square root transformation: {}'.format(pearsonr(data_sqrt['Rooms'],data['Price'])[0]))\n",
    "print('Pearson Correlation after log transformation: {}'.format(pearsonr(data_log['Rooms'],data['Price'])[0]))"
   ]
  },
  {
   "cell_type": "markdown",
   "metadata": {},
   "source": [
    "For __Rooms__ we can get a stronger linear relationship with __Price__ after after doing square root transformation. "
   ]
  },
  {
   "cell_type": "code",
   "execution_count": 56,
   "metadata": {},
   "outputs": [
    {
     "name": "stdout",
     "output_type": "stream",
     "text": [
      "Pearson Correlation before transformation of Age: 0.17318276973107696\n",
      "Pearson Correlation after square root transformation: 0.19017618542541836\n",
      "Pearson Correlation after log transformation: 0.15619246584707536\n"
     ]
    },
    {
     "data": {
      "image/png": "[encoded data removed]",
      "text/plain": [
       "<Figure size 1296x360 with 3 Axes>"
      ]
     },
     "metadata": {
      "needs_background": "light"
     },
     "output_type": "display_data"
    }
   ],
   "source": [
    "fig, (ax1, ax2, ax3) = plt.subplots(ncols=3, figsize=(18, 5))\n",
    "\n",
    "ax1.set_title('No transformation')\n",
    "ax1.scatter(data[\"Age\"], data[\"Price\"])\n",
    "ax2.set_title('Root transformation')\n",
    "ax2.scatter(data_sqrt[\"Age\"], data_sqrt[\"Price\"])\n",
    "ax3.set_title('Log transformation')\n",
    "ax3.scatter(data_log[\"Age\"], data_log[\"Price\"])\n",
    "\n",
    "print('Pearson Correlation before transformation of Age: {}'.format(pearsonr(data['Age'],data['Price'])[0]))\n",
    "print('Pearson Correlation after square root transformation: {}'.format(pearsonr(data_sqrt['Age'],data['Price'])[0]))\n",
    "print('Pearson Correlation after log transformation: {}'.format(pearsonr(data_log['Age'],data['Price'])[0]))"
   ]
  },
  {
   "cell_type": "markdown",
   "metadata": {},
   "source": [
    "For __Age__ we can get a stronger linear relationship with __Price__ after  doing square root transformation. "
   ]
  },
  {
   "cell_type": "markdown",
   "metadata": {},
   "source": [
    "__Suggested solution__: So we will not do transformation for __crime_C_average__, and __travel_min_to_CBD__, and we will do square root transforamtion for __Rooms__ and __Age__"
   ]
  },
  {
   "cell_type": "code",
   "execution_count": 57,
   "metadata": {},
   "outputs": [],
   "source": [
    "#transformed data\n",
    "trans = pd.DataFrame()\n",
    "trans['Price'] = data['Price']\n",
    "trans['Rooms'] = data_log['Rooms']\n",
    "trans['crime_C_average'] = data['crime_C_average']\n",
    "trans['travel_min_to_CBD'] = data['travel_min_to_CBD']\n",
    "trans['Age'] = data_log['Age']\n",
    "\n",
    "#transformed data square root\n",
    "trans_sqrt = pd.DataFrame()\n",
    "trans_sqrt['Price'] = data['Price']\n",
    "trans_sqrt['Rooms'] = data_sqrt['Rooms']\n",
    "trans_sqrt['crime_C_average'] = data['crime_C_average']\n",
    "trans_sqrt['travel_min_to_CBD'] = data['travel_min_to_CBD']\n",
    "trans_sqrt['Age'] = data_sqrt['Age']\n",
    "\n",
    "\n",
    "#normalize data\n",
    "norm = pd.DataFrame()\n",
    "norm['Price'] = data['Price']\n",
    "norm['Rooms'] = data_scaled['Rooms']\n",
    "norm['crime_C_average'] = data_scaled['crime_C_average']\n",
    "norm['travel_min_to_CBD'] = data_scaled['travel_min_to_CBD']\n",
    "norm['Age'] = data_scaled['Age']\n",
    "\n",
    "#transform and normalize data\n",
    "trans_norm = pd.DataFrame()\n",
    "trans_norm['Price'] = data['Price']\n",
    "trans_norm['Rooms'] = data_sqrt['Rooms']\n",
    "trans_norm['crime_C_average'] = data_scaled['crime_C_average']\n",
    "trans_norm['travel_min_to_CBD'] = data_scaled['travel_min_to_CBD']\n",
    "trans_norm['Age'] = data_sqrt['Age']"
   ]
  },
  {
   "cell_type": "code",
   "execution_count": 58,
   "metadata": {},
   "outputs": [],
   "source": [
    "def testing(data,model):\n",
    "    \"\"\"\n",
    "    This model will return the R_squared, mse, mae of linear model\n",
    "    given different input data\n",
    "    \"\"\"\n",
    "    \n",
    "    X_train, X_test, y_train, y_test = train_test_split(data[[\"Rooms\", \"crime_C_average\", \"travel_min_to_CBD\", \"Age\"]],\n",
    "                                                        data.Price, test_size=0.3,\n",
    "                                                        random_state=0)\n",
    "    X = X_train\n",
    "    y = y_train\n",
    "    # instantiate and fit\n",
    "    lm= LinearRegression()\n",
    "    lm.fit(X, y)\n",
    "    # print the metrics\n",
    "    y_pred = lm.predict(X_test)\n",
    "    print('R squared of {} : {}'.format(model,lm.score(X,y)))\n",
    "    print('MSE of {} : {}'.format(model,mean_squared_error(y_test,y_pred)))\n",
    "    print('MAE of {} : {}'.format(model,mean_absolute_error(y_test,y_pred)))\n",
    "    return"
   ]
  },
  {
   "cell_type": "markdown",
   "metadata": {},
   "source": [
    "We will test if the model accuracy is improved after transformation/standarization is made in comparison with original linear model (no transformation and no standarization)"
   ]
  },
  {
   "cell_type": "code",
   "execution_count": 59,
   "metadata": {},
   "outputs": [
    {
     "name": "stdout",
     "output_type": "stream",
     "text": [
      "R squared of base : 0.35662821712965204\n",
      "MSE of base : 217615440143.26218\n",
      "MAE of base : 319970.6434809066\n"
     ]
    }
   ],
   "source": [
    "testing(data,'base')"
   ]
  },
  {
   "cell_type": "code",
   "execution_count": 60,
   "metadata": {},
   "outputs": [
    {
     "name": "stdout",
     "output_type": "stream",
     "text": [
      "R squared of standarization : 0.35662821712965204\n",
      "MSE of standarization : 217615440143.2621\n",
      "MAE of standarization : 319970.64348090644\n"
     ]
    }
   ],
   "source": [
    "testing(norm,'standarization')"
   ]
  },
  {
   "cell_type": "markdown",
   "metadata": {},
   "source": [
    "After standarization, the performance of model did not get better. We will check the log transformed model"
   ]
  },
  {
   "cell_type": "code",
   "execution_count": 61,
   "metadata": {},
   "outputs": [
    {
     "name": "stdout",
     "output_type": "stream",
     "text": [
      "R squared of transformed : 0.36898061173905483\n",
      "MSE of transformed : 218645816292.99756\n",
      "MAE of transformed : 323600.7460085054\n"
     ]
    }
   ],
   "source": [
    "testing(trans_sqrt,'transformed')"
   ]
  },
  {
   "cell_type": "markdown",
   "metadata": {},
   "source": [
    "There is a slight improvement with transformed model. We can look at log transformation of __Age__ and __Rooms__ to see if the model improved? "
   ]
  },
  {
   "cell_type": "code",
   "execution_count": 62,
   "metadata": {},
   "outputs": [
    {
     "name": "stdout",
     "output_type": "stream",
     "text": [
      "R squared of transformed and standardized : 0.36712580729611366\n",
      "MSE of transformed and standardized : 221231222679.24582\n",
      "MAE of transformed and standardized : 325363.40798856743\n"
     ]
    }
   ],
   "source": [
    "testing(trans,'transformed and standardized')"
   ]
  },
  {
   "cell_type": "markdown",
   "metadata": {},
   "source": [
    "This proves that log transformation in this case still improves but does not work as good as square root transformation. We will look at both transformed and standardized model."
   ]
  },
  {
   "cell_type": "code",
   "execution_count": 63,
   "metadata": {},
   "outputs": [
    {
     "name": "stdout",
     "output_type": "stream",
     "text": [
      "R squared of transformed and standardized : 0.36898061173905483\n",
      "MSE of transformed and standardized : 218645816292.99756\n",
      "MAE of transformed and standardized : 323600.74600850523\n"
     ]
    }
   ],
   "source": [
    "testing(trans_norm,'transformed and standardized')"
   ]
  },
  {
   "cell_type": "markdown",
   "metadata": {},
   "source": [
    "__Conclusion__: At first, we need to standarization because variables have different ranges of values that can dispropotionately influence the linear model. Then square root transformation with __Age__ and __Rooms__ will work better for this data, which results in better performance."
   ]
  },
  {
   "cell_type": "markdown",
   "metadata": {},
   "source": [
    "# III. Summary\n",
    "In data integration, we can obtain the suburb based on the geolocations of properties. Train attributes can be found based on the dataset gtfs 1,2 provided. Number of each crime types is calculated based on data from three years prior. We can check if the property is overpriced or not by looking within the same suburb the average sold price of the properties with the same attributes(bedrooms, bathrooms, carspace...). School attributes can be found via geolocation and ranking can be obtained from online link. \n",
    "\n",
    "In data reshaping we inspect each predictor, how all of them should be scaled, and transformed. In comparison with linear model on base data, reshaping data with squareroot transformation will result in better linear model."
   ]
  }
 ],
 "metadata": {
  "kernelspec": {
   "display_name": "Python 3",
   "language": "python",
   "name": "python3"
  },
  "language_info": {
   "codemirror_mode": {
    "name": "ipython",
    "version": 3
   },
   "file_extension": ".py",
   "mimetype": "text/x-python",
   "name": "python",
   "nbconvert_exporter": "python",
   "pygments_lexer": "ipython3",
   "version": "3.7.3"
  }
 },
 "nbformat": 4,
 "nbformat_minor": 2
}
